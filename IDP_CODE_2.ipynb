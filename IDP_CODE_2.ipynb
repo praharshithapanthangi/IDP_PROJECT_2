{
  "nbformat": 4,
  "nbformat_minor": 0,
  "metadata": {
    "colab": {
      "provenance": [],
      "gpuType": "T4",
      "include_colab_link": true
    },
    "kernelspec": {
      "name": "python3",
      "display_name": "Python 3"
    },
    "language_info": {
      "name": "python"
    },
    "accelerator": "GPU"
  },
  "cells": [
    {
      "cell_type": "markdown",
      "metadata": {
        "id": "view-in-github",
        "colab_type": "text"
      },
      "source": [
        "<a href=\"https://colab.research.google.com/github/praharshithapanthangi/IDP_PROJECT_2/blob/main/IDP_CODE_2.ipynb\" target=\"_parent\"><img src=\"https://colab.research.google.com/assets/colab-badge.svg\" alt=\"Open In Colab\"/></a>"
      ]
    },
    {
      "cell_type": "code",
      "execution_count": null,
      "metadata": {
        "id": "sj1nKLWtPCDW"
      },
      "outputs": [],
      "source": [
        "# Import necessary libraries\n",
        "import pandas as pd\n",
        "import numpy as np\n",
        "import plotly.express as px\n",
        "import plotly.graph_objects as go\n",
        "from plotly.subplots import make_subplots\n",
        "from sklearn.model_selection import train_test_split\n",
        "from sklearn.preprocessing import StandardScaler, LabelEncoder\n",
        "from sklearn.metrics import confusion_matrix\n",
        "import plotly.figure_factory as ff\n",
        "from sklearn.linear_model import LogisticRegression\n",
        "from sklearn.ensemble import RandomForestClassifier\n",
        "from sklearn.metrics import classification_report,accuracy_score, confusion_matrix, roc_curve, auc\n",
        "from imblearn.over_sampling import SMOTE"
      ]
    },
    {
      "cell_type": "code",
      "source": [
        "import pandas as pd  # Import pandas\n",
        "\n",
        "# Load datasets\n",
        "app_record = pd.read_csv('/content/application_record.csv')\n",
        "credit_record = pd.read_csv('/content/credit_record.csv')\n",
        "\n",
        "# Check if the datasets loaded correctly\n",
        "print(app_record.head())\n",
        "print(credit_record.head())\n"
      ],
      "metadata": {
        "id": "2CcC-a8UPUUz",
        "colab": {
          "base_uri": "https://localhost:8080/"
        },
        "outputId": "b97d3ce2-ad25-4f03-9787-a692fb4537cd"
      },
      "execution_count": null,
      "outputs": [
        {
          "output_type": "stream",
          "name": "stdout",
          "text": [
            "        ID CODE_GENDER FLAG_OWN_CAR FLAG_OWN_REALTY  CNT_CHILDREN  \\\n",
            "0  5008804           M            Y               Y             0   \n",
            "1  5008805           M            Y               Y             0   \n",
            "2  5008806           M            Y               Y             0   \n",
            "3  5008808           F            N               Y             0   \n",
            "4  5008809           F            N               Y             0   \n",
            "\n",
            "   AMT_INCOME_TOTAL      NAME_INCOME_TYPE            NAME_EDUCATION_TYPE  \\\n",
            "0          427500.0               Working               Higher education   \n",
            "1          427500.0               Working               Higher education   \n",
            "2          112500.0               Working  Secondary / secondary special   \n",
            "3          270000.0  Commercial associate  Secondary / secondary special   \n",
            "4          270000.0  Commercial associate  Secondary / secondary special   \n",
            "\n",
            "     NAME_FAMILY_STATUS  NAME_HOUSING_TYPE  DAYS_BIRTH  DAYS_EMPLOYED  \\\n",
            "0        Civil marriage   Rented apartment      -12005          -4542   \n",
            "1        Civil marriage   Rented apartment      -12005          -4542   \n",
            "2               Married  House / apartment      -21474          -1134   \n",
            "3  Single / not married  House / apartment      -19110          -3051   \n",
            "4  Single / not married  House / apartment      -19110          -3051   \n",
            "\n",
            "   FLAG_MOBIL  FLAG_WORK_PHONE  FLAG_PHONE  FLAG_EMAIL OCCUPATION_TYPE  \\\n",
            "0           1                1           0           0             NaN   \n",
            "1           1                1           0           0             NaN   \n",
            "2           1                0           0           0  Security staff   \n",
            "3           1                0           1           1     Sales staff   \n",
            "4           1                0           1           1     Sales staff   \n",
            "\n",
            "   CNT_FAM_MEMBERS  \n",
            "0              2.0  \n",
            "1              2.0  \n",
            "2              2.0  \n",
            "3              1.0  \n",
            "4              1.0  \n",
            "        ID  MONTHS_BALANCE STATUS\n",
            "0  5001711               0      X\n",
            "1  5001711              -1      0\n",
            "2  5001711              -2      0\n",
            "3  5001711              -3      0\n",
            "4  5001712               0      C\n"
          ]
        }
      ]
    },
    {
      "cell_type": "code",
      "source": [
        "# Display the first few rows of each dataset\n",
        "print(app_record.head())\n",
        "print(credit_record.head())"
      ],
      "metadata": {
        "colab": {
          "base_uri": "https://localhost:8080/"
        },
        "id": "o2DmD7OpPwsh",
        "outputId": "624e7bd7-f594-4f28-9a4d-0e93aaf530cb"
      },
      "execution_count": null,
      "outputs": [
        {
          "output_type": "stream",
          "name": "stdout",
          "text": [
            "        ID CODE_GENDER FLAG_OWN_CAR FLAG_OWN_REALTY  CNT_CHILDREN  \\\n",
            "0  5008804           M            Y               Y             0   \n",
            "1  5008805           M            Y               Y             0   \n",
            "2  5008806           M            Y               Y             0   \n",
            "3  5008808           F            N               Y             0   \n",
            "4  5008809           F            N               Y             0   \n",
            "\n",
            "   AMT_INCOME_TOTAL      NAME_INCOME_TYPE            NAME_EDUCATION_TYPE  \\\n",
            "0          427500.0               Working               Higher education   \n",
            "1          427500.0               Working               Higher education   \n",
            "2          112500.0               Working  Secondary / secondary special   \n",
            "3          270000.0  Commercial associate  Secondary / secondary special   \n",
            "4          270000.0  Commercial associate  Secondary / secondary special   \n",
            "\n",
            "     NAME_FAMILY_STATUS  NAME_HOUSING_TYPE  DAYS_BIRTH  DAYS_EMPLOYED  \\\n",
            "0        Civil marriage   Rented apartment      -12005          -4542   \n",
            "1        Civil marriage   Rented apartment      -12005          -4542   \n",
            "2               Married  House / apartment      -21474          -1134   \n",
            "3  Single / not married  House / apartment      -19110          -3051   \n",
            "4  Single / not married  House / apartment      -19110          -3051   \n",
            "\n",
            "   FLAG_MOBIL  FLAG_WORK_PHONE  FLAG_PHONE  FLAG_EMAIL OCCUPATION_TYPE  \\\n",
            "0           1                1           0           0             NaN   \n",
            "1           1                1           0           0             NaN   \n",
            "2           1                0           0           0  Security staff   \n",
            "3           1                0           1           1     Sales staff   \n",
            "4           1                0           1           1     Sales staff   \n",
            "\n",
            "   CNT_FAM_MEMBERS  \n",
            "0              2.0  \n",
            "1              2.0  \n",
            "2              2.0  \n",
            "3              1.0  \n",
            "4              1.0  \n",
            "        ID  MONTHS_BALANCE STATUS\n",
            "0  5001711               0      X\n",
            "1  5001711              -1      0\n",
            "2  5001711              -2      0\n",
            "3  5001711              -3      0\n",
            "4  5001712               0      C\n"
          ]
        }
      ]
    },
    {
      "cell_type": "code",
      "source": [
        "# Creating subplots for distributions of various features exploratory data analysis\n",
        "fig = make_subplots(\n",
        "    rows=3, cols=3,\n",
        "    subplot_titles=('Gender', 'Income', 'Education Level', 'Family Status', 'Housing Type', 'Age', 'Years Employed')\n",
        ")\n",
        "\n",
        "# Gender Distribution\n",
        "gender_fig = px.histogram(app_record, x='CODE_GENDER', color='CODE_GENDER', title='Gender Distribution',\n",
        "                          color_discrete_sequence=px.colors.qualitative.Pastel, template='plotly_dark').data[0]\n",
        "fig.add_trace(gender_fig, row=1, col=1)\n",
        "\n",
        "# Income Distribution\n",
        "income_fig = px.histogram(app_record, x='AMT_INCOME_TOTAL', nbins=50, title='Income Distribution',\n",
        "                          color_discrete_sequence=['#00CC96'], template='plotly_dark').data[0]\n",
        "fig.add_trace(income_fig, row=1, col=2)\n",
        "\n",
        "# Education Level Distribution\n",
        "education_fig = px.histogram(app_record, x='NAME_EDUCATION_TYPE', title='Education Level Distribution',\n",
        "                             color='NAME_EDUCATION_TYPE', color_discrete_sequence=px.colors.qualitative.Set2, template='plotly_dark').data[0]\n",
        "fig.add_trace(education_fig, row=1, col=3)\n",
        "\n",
        "# Family Status Distribution\n",
        "family_fig = px.histogram(app_record, x='NAME_FAMILY_STATUS', title='Family Status Distribution',\n",
        "                          color='NAME_FAMILY_STATUS', color_discrete_sequence=px.colors.qualitative.Vivid, template='plotly_dark').data[0]\n",
        "fig.add_trace(family_fig, row=2, col=1)\n",
        "\n",
        "# Housing Type Distribution\n",
        "housing_fig = px.histogram(app_record, x='NAME_HOUSING_TYPE', title='Housing Type Distribution',\n",
        "                           color='NAME_HOUSING_TYPE', color_discrete_sequence=px.colors.qualitative.Alphabet, template='plotly_dark').data[0]\n",
        "fig.add_trace(housing_fig, row=2, col=2)\n",
        "\n",
        "# Age Distribution\n",
        "app_record['AGE'] = app_record['DAYS_BIRTH'] // -365\n",
        "age_fig = px.histogram(app_record, x='AGE', nbins=50, title='Age Distribution',\n",
        "                       color_discrete_sequence=['#FFA15A'], template='plotly_dark').data[0]\n",
        "fig.add_trace(age_fig, row=2, col=3)\n",
        "\n",
        "# Years Employed Distribution\n",
        "app_record['YEARS_EMPLOYED'] = app_record['DAYS_EMPLOYED'] // -365\n",
        "employed_fig = px.histogram(app_record, x='YEARS_EMPLOYED', nbins=50, title='Years Employed Distribution',\n",
        "                            color_discrete_sequence=['#AB63FA'], template='plotly_dark').data[0]\n",
        "fig.add_trace(employed_fig, row=3, col=1)\n",
        "\n",
        "fig.update_layout(height=900, width=900, title_text='Distributions of Various Features', title_font_size=24, title_x=0.5)\n",
        "fig.show()"
      ],
      "metadata": {
        "id": "ck8OCW4W564P"
      },
      "execution_count": null,
      "outputs": []
    },
    {
      "cell_type": "code",
      "source": [
        "\n",
        "# income vs. age colored by gender\n",
        "scatter_fig = px.scatter(app_record, x='AGE', y='AMT_INCOME_TOTAL', color='CODE_GENDER',\n",
        "                         title='Income vs. Age by Gender', color_discrete_sequence=px.colors.qualitative.Pastel, template='plotly_dark')\n",
        "scatter_fig.update_layout(title_font_size=20, title_x=0.5, xaxis_title='Age', yaxis_title='Income')\n",
        "scatter_fig.show()"
      ],
      "metadata": {
        "id": "7wie_iA35600"
      },
      "execution_count": null,
      "outputs": []
    },
    {
      "cell_type": "code",
      "source": [
        "# Income by family status\n",
        "box_fig = px.box(app_record, x='NAME_FAMILY_STATUS', y='AMT_INCOME_TOTAL', color='NAME_FAMILY_STATUS',\n",
        "                 title='Income by Family Status', color_discrete_sequence=px.colors.qualitative.Vivid, template='plotly_dark')\n",
        "box_fig.update_layout(title_font_size=20, title_x=0.5, xaxis_title='Family Status', yaxis_title='Income')\n",
        "box_fig.show()"
      ],
      "metadata": {
        "id": "NEMrXbgn56yl"
      },
      "execution_count": null,
      "outputs": []
    },
    {
      "cell_type": "code",
      "source": [
        "# Heatmap of correlation matrix\n",
        "numerical_cols = app_record.select_dtypes(include=[np.number]).columns\n",
        "correlation_matrix = app_record[numerical_cols].corr()\n",
        "\n",
        "# Create the heatmap figure\n",
        "heatmap_fig = go.Figure(data=go.Heatmap(\n",
        "    z=correlation_matrix.values,\n",
        "    x=correlation_matrix.columns,\n",
        "    y=correlation_matrix.columns,\n",
        "    colorscale='Viridis',\n",
        "    colorbar=dict(title='Correlation'),\n",
        "    zmin=-1, zmax=1,  # Setting color scale range\n",
        "    showscale=True  # Display color scale\n",
        "))\n",
        "\n",
        "# Add annotations to the heatmap\n",
        "annotations = []\n",
        "for i, row in enumerate(correlation_matrix.values):\n",
        "    for j, value in enumerate(row):\n",
        "        annotations.append(\n",
        "            dict(\n",
        "                text=str(round(value, 2)),\n",
        "                x=correlation_matrix.columns[j],\n",
        "                y=correlation_matrix.columns[i],\n",
        "                xref='x1', yref='y1',\n",
        "                font=dict(color='black', size=12),\n",
        "                showarrow=False\n",
        "            )\n",
        "        )\n",
        "\n",
        "heatmap_fig.update_layout(\n",
        "    title='Correlation Matrix',\n",
        "    xaxis_nticks=36,\n",
        "    template='plotly_dark',\n",
        "    annotations=annotations  # Add annotations to the layout\n",
        ")\n",
        "\n",
        "heatmap_fig.show()"
      ],
      "metadata": {
        "colab": {
          "base_uri": "https://localhost:8080/",
          "height": 542
        },
        "id": "3PItRNxJ56wA",
        "outputId": "764f9e3f-b67c-45dc-8db6-d4acc8c0d4d9"
      },
      "execution_count": null,
      "outputs": [
        {
          "output_type": "display_data",
          "data": {
            "text/html": [
              "<html>\n",
              "<head><meta charset=\"utf-8\" /></head>\n",
              "<body>\n",
              "    <div>            <script src=\"https://cdnjs.cloudflare.com/ajax/libs/mathjax/2.7.5/MathJax.js?config=TeX-AMS-MML_SVG\"></script><script type=\"text/javascript\">if (window.MathJax && window.MathJax.Hub && window.MathJax.Hub.Config) {window.MathJax.Hub.Config({SVG: {font: \"STIX-Web\"}});}</script>                <script type=\"text/javascript\">window.PlotlyConfig = {MathJaxConfig: 'local'};</script>\n",
              "        <script charset=\"utf-8\" src=\"https://cdn.plot.ly/plotly-2.35.2.min.js\"></script>                <div id=\"2cf10dc4-789b-447c-af11-164a544284ed\" class=\"plotly-graph-div\" style=\"height:525px; width:100%;\"></div>            <script type=\"text/javascript\">                                    window.PLOTLYENV=window.PLOTLYENV || {};                                    if (document.getElementById(\"2cf10dc4-789b-447c-af11-164a544284ed\")) {                    Plotly.newPlot(                        \"2cf10dc4-789b-447c-af11-164a544284ed\",                        [{\"colorbar\":{\"title\":{\"text\":\"Correlation\"}},\"colorscale\":[[0.0,\"#440154\"],[0.1111111111111111,\"#482878\"],[0.2222222222222222,\"#3e4989\"],[0.3333333333333333,\"#31688e\"],[0.4444444444444444,\"#26828e\"],[0.5555555555555556,\"#1f9e89\"],[0.6666666666666666,\"#35b779\"],[0.7777777777777778,\"#6ece58\"],[0.8888888888888888,\"#b5de2b\"],[1.0,\"#fde725\"]],\"showscale\":true,\"x\":[\"ID\",\"CNT_CHILDREN\",\"AMT_INCOME_TOTAL\",\"DAYS_BIRTH\",\"DAYS_EMPLOYED\",\"FLAG_MOBIL\",\"FLAG_WORK_PHONE\",\"FLAG_PHONE\",\"FLAG_EMAIL\",\"CNT_FAM_MEMBERS\",\"AGE\",\"YEARS_EMPLOYED\"],\"y\":[\"ID\",\"CNT_CHILDREN\",\"AMT_INCOME_TOTAL\",\"DAYS_BIRTH\",\"DAYS_EMPLOYED\",\"FLAG_MOBIL\",\"FLAG_WORK_PHONE\",\"FLAG_PHONE\",\"FLAG_EMAIL\",\"CNT_FAM_MEMBERS\",\"AGE\",\"YEARS_EMPLOYED\"],\"z\":[[1.0,-0.00517820924074608,0.011178853656978183,-0.004994000062192871,-0.0024667941886143793,null,-0.02331942339422258,-0.01899194453469896,0.03287508524958378,-0.0018624892410045784,0.005093204337062427,0.0024574467480673948],[-0.00517820924074608,1.0,0.01917684718163208,0.34908823709040415,-0.24153541330278733,null,0.03841754540520791,-0.03826637889384382,0.028456623686212303,0.8847813802480776,-0.34900405295458314,0.2415338166225557],[0.011178853656978183,0.01917684718163208,1.0,0.05377456871885899,-0.14129148709475617,null,-0.03363510391505501,0.004444091453146451,0.11213933082568557,0.011454342643628707,-0.05386481327001155,0.1412935331706795],[-0.004994000062192871,0.34908823709040415,0.05377456871885899,1.0,-0.6179078738308573,null,0.17182861224600582,-0.03798367169956933,0.09675207279327117,0.3061792139503999,-0.9996808557031706,0.6179069994314889],[-0.0024667941886143793,-0.24153541330278733,-0.14129148709475617,-0.6179078738308573,1.0,null,-0.23220798362521614,0.004867703620493259,-0.07437229697167651,-0.23437255932341697,0.6179146297162267,-0.9999997716072975],[null,null,null,null,null,null,null,null,null,null,null,null],[-0.02331942339422258,0.03841754540520791,-0.03363510391505501,0.17182861224600582,-0.23220798362521614,null,1.0,0.29006613019584776,-0.06091471431214347,0.04977748208442567,-0.17194923059055703,0.23221292985931247],[-0.01899194453469896,-0.03826637889384382,0.004444091453146451,-0.03798367169956933,0.004867703620493259,null,0.29006613019584776,1.0,-0.0011702079615168999,-0.024213322269965348,0.037847084058253024,-0.004864213749681741],[0.03287508524958378,0.028456623686212303,0.11213933082568557,0.09675207279327117,-0.07437229697167651,null,-0.06091471431214347,-0.0011702079615168999,1.0,0.02205398700801419,-0.09670426097479698,0.07437111764521243],[-0.0018624892410045784,0.8847813802480776,0.011454342643628707,0.3061792139503999,-0.23437255932341697,null,0.04977748208442567,-0.024213322269965348,0.02205398700801419,1.0,-0.3061231172795522,0.23437198588924962],[0.005093204337062427,-0.34900405295458314,-0.05386481327001155,-0.9996808557031706,0.6179146297162267,null,-0.17194923059055703,0.037847084058253024,-0.09670426097479698,-0.3061231172795522,1.0,-0.617913675252859],[0.0024574467480673948,0.2415338166225557,0.1412935331706795,0.6179069994314889,-0.9999997716072975,null,0.23221292985931247,-0.004864213749681741,0.07437111764521243,0.23437198588924962,-0.617913675252859,1.0]],\"zmax\":1,\"zmin\":-1,\"type\":\"heatmap\"}],                        {\"template\":{\"data\":{\"barpolar\":[{\"marker\":{\"line\":{\"color\":\"rgb(17,17,17)\",\"width\":0.5},\"pattern\":{\"fillmode\":\"overlay\",\"size\":10,\"solidity\":0.2}},\"type\":\"barpolar\"}],\"bar\":[{\"error_x\":{\"color\":\"#f2f5fa\"},\"error_y\":{\"color\":\"#f2f5fa\"},\"marker\":{\"line\":{\"color\":\"rgb(17,17,17)\",\"width\":0.5},\"pattern\":{\"fillmode\":\"overlay\",\"size\":10,\"solidity\":0.2}},\"type\":\"bar\"}],\"carpet\":[{\"aaxis\":{\"endlinecolor\":\"#A2B1C6\",\"gridcolor\":\"#506784\",\"linecolor\":\"#506784\",\"minorgridcolor\":\"#506784\",\"startlinecolor\":\"#A2B1C6\"},\"baxis\":{\"endlinecolor\":\"#A2B1C6\",\"gridcolor\":\"#506784\",\"linecolor\":\"#506784\",\"minorgridcolor\":\"#506784\",\"startlinecolor\":\"#A2B1C6\"},\"type\":\"carpet\"}],\"choropleth\":[{\"colorbar\":{\"outlinewidth\":0,\"ticks\":\"\"},\"type\":\"choropleth\"}],\"contourcarpet\":[{\"colorbar\":{\"outlinewidth\":0,\"ticks\":\"\"},\"type\":\"contourcarpet\"}],\"contour\":[{\"colorbar\":{\"outlinewidth\":0,\"ticks\":\"\"},\"colorscale\":[[0.0,\"#0d0887\"],[0.1111111111111111,\"#46039f\"],[0.2222222222222222,\"#7201a8\"],[0.3333333333333333,\"#9c179e\"],[0.4444444444444444,\"#bd3786\"],[0.5555555555555556,\"#d8576b\"],[0.6666666666666666,\"#ed7953\"],[0.7777777777777778,\"#fb9f3a\"],[0.8888888888888888,\"#fdca26\"],[1.0,\"#f0f921\"]],\"type\":\"contour\"}],\"heatmapgl\":[{\"colorbar\":{\"outlinewidth\":0,\"ticks\":\"\"},\"colorscale\":[[0.0,\"#0d0887\"],[0.1111111111111111,\"#46039f\"],[0.2222222222222222,\"#7201a8\"],[0.3333333333333333,\"#9c179e\"],[0.4444444444444444,\"#bd3786\"],[0.5555555555555556,\"#d8576b\"],[0.6666666666666666,\"#ed7953\"],[0.7777777777777778,\"#fb9f3a\"],[0.8888888888888888,\"#fdca26\"],[1.0,\"#f0f921\"]],\"type\":\"heatmapgl\"}],\"heatmap\":[{\"colorbar\":{\"outlinewidth\":0,\"ticks\":\"\"},\"colorscale\":[[0.0,\"#0d0887\"],[0.1111111111111111,\"#46039f\"],[0.2222222222222222,\"#7201a8\"],[0.3333333333333333,\"#9c179e\"],[0.4444444444444444,\"#bd3786\"],[0.5555555555555556,\"#d8576b\"],[0.6666666666666666,\"#ed7953\"],[0.7777777777777778,\"#fb9f3a\"],[0.8888888888888888,\"#fdca26\"],[1.0,\"#f0f921\"]],\"type\":\"heatmap\"}],\"histogram2dcontour\":[{\"colorbar\":{\"outlinewidth\":0,\"ticks\":\"\"},\"colorscale\":[[0.0,\"#0d0887\"],[0.1111111111111111,\"#46039f\"],[0.2222222222222222,\"#7201a8\"],[0.3333333333333333,\"#9c179e\"],[0.4444444444444444,\"#bd3786\"],[0.5555555555555556,\"#d8576b\"],[0.6666666666666666,\"#ed7953\"],[0.7777777777777778,\"#fb9f3a\"],[0.8888888888888888,\"#fdca26\"],[1.0,\"#f0f921\"]],\"type\":\"histogram2dcontour\"}],\"histogram2d\":[{\"colorbar\":{\"outlinewidth\":0,\"ticks\":\"\"},\"colorscale\":[[0.0,\"#0d0887\"],[0.1111111111111111,\"#46039f\"],[0.2222222222222222,\"#7201a8\"],[0.3333333333333333,\"#9c179e\"],[0.4444444444444444,\"#bd3786\"],[0.5555555555555556,\"#d8576b\"],[0.6666666666666666,\"#ed7953\"],[0.7777777777777778,\"#fb9f3a\"],[0.8888888888888888,\"#fdca26\"],[1.0,\"#f0f921\"]],\"type\":\"histogram2d\"}],\"histogram\":[{\"marker\":{\"pattern\":{\"fillmode\":\"overlay\",\"size\":10,\"solidity\":0.2}},\"type\":\"histogram\"}],\"mesh3d\":[{\"colorbar\":{\"outlinewidth\":0,\"ticks\":\"\"},\"type\":\"mesh3d\"}],\"parcoords\":[{\"line\":{\"colorbar\":{\"outlinewidth\":0,\"ticks\":\"\"}},\"type\":\"parcoords\"}],\"pie\":[{\"automargin\":true,\"type\":\"pie\"}],\"scatter3d\":[{\"line\":{\"colorbar\":{\"outlinewidth\":0,\"ticks\":\"\"}},\"marker\":{\"colorbar\":{\"outlinewidth\":0,\"ticks\":\"\"}},\"type\":\"scatter3d\"}],\"scattercarpet\":[{\"marker\":{\"colorbar\":{\"outlinewidth\":0,\"ticks\":\"\"}},\"type\":\"scattercarpet\"}],\"scattergeo\":[{\"marker\":{\"colorbar\":{\"outlinewidth\":0,\"ticks\":\"\"}},\"type\":\"scattergeo\"}],\"scattergl\":[{\"marker\":{\"line\":{\"color\":\"#283442\"}},\"type\":\"scattergl\"}],\"scattermapbox\":[{\"marker\":{\"colorbar\":{\"outlinewidth\":0,\"ticks\":\"\"}},\"type\":\"scattermapbox\"}],\"scatterpolargl\":[{\"marker\":{\"colorbar\":{\"outlinewidth\":0,\"ticks\":\"\"}},\"type\":\"scatterpolargl\"}],\"scatterpolar\":[{\"marker\":{\"colorbar\":{\"outlinewidth\":0,\"ticks\":\"\"}},\"type\":\"scatterpolar\"}],\"scatter\":[{\"marker\":{\"line\":{\"color\":\"#283442\"}},\"type\":\"scatter\"}],\"scatterternary\":[{\"marker\":{\"colorbar\":{\"outlinewidth\":0,\"ticks\":\"\"}},\"type\":\"scatterternary\"}],\"surface\":[{\"colorbar\":{\"outlinewidth\":0,\"ticks\":\"\"},\"colorscale\":[[0.0,\"#0d0887\"],[0.1111111111111111,\"#46039f\"],[0.2222222222222222,\"#7201a8\"],[0.3333333333333333,\"#9c179e\"],[0.4444444444444444,\"#bd3786\"],[0.5555555555555556,\"#d8576b\"],[0.6666666666666666,\"#ed7953\"],[0.7777777777777778,\"#fb9f3a\"],[0.8888888888888888,\"#fdca26\"],[1.0,\"#f0f921\"]],\"type\":\"surface\"}],\"table\":[{\"cells\":{\"fill\":{\"color\":\"#506784\"},\"line\":{\"color\":\"rgb(17,17,17)\"}},\"header\":{\"fill\":{\"color\":\"#2a3f5f\"},\"line\":{\"color\":\"rgb(17,17,17)\"}},\"type\":\"table\"}]},\"layout\":{\"annotationdefaults\":{\"arrowcolor\":\"#f2f5fa\",\"arrowhead\":0,\"arrowwidth\":1},\"autotypenumbers\":\"strict\",\"coloraxis\":{\"colorbar\":{\"outlinewidth\":0,\"ticks\":\"\"}},\"colorscale\":{\"diverging\":[[0,\"#8e0152\"],[0.1,\"#c51b7d\"],[0.2,\"#de77ae\"],[0.3,\"#f1b6da\"],[0.4,\"#fde0ef\"],[0.5,\"#f7f7f7\"],[0.6,\"#e6f5d0\"],[0.7,\"#b8e186\"],[0.8,\"#7fbc41\"],[0.9,\"#4d9221\"],[1,\"#276419\"]],\"sequential\":[[0.0,\"#0d0887\"],[0.1111111111111111,\"#46039f\"],[0.2222222222222222,\"#7201a8\"],[0.3333333333333333,\"#9c179e\"],[0.4444444444444444,\"#bd3786\"],[0.5555555555555556,\"#d8576b\"],[0.6666666666666666,\"#ed7953\"],[0.7777777777777778,\"#fb9f3a\"],[0.8888888888888888,\"#fdca26\"],[1.0,\"#f0f921\"]],\"sequentialminus\":[[0.0,\"#0d0887\"],[0.1111111111111111,\"#46039f\"],[0.2222222222222222,\"#7201a8\"],[0.3333333333333333,\"#9c179e\"],[0.4444444444444444,\"#bd3786\"],[0.5555555555555556,\"#d8576b\"],[0.6666666666666666,\"#ed7953\"],[0.7777777777777778,\"#fb9f3a\"],[0.8888888888888888,\"#fdca26\"],[1.0,\"#f0f921\"]]},\"colorway\":[\"#636efa\",\"#EF553B\",\"#00cc96\",\"#ab63fa\",\"#FFA15A\",\"#19d3f3\",\"#FF6692\",\"#B6E880\",\"#FF97FF\",\"#FECB52\"],\"font\":{\"color\":\"#f2f5fa\"},\"geo\":{\"bgcolor\":\"rgb(17,17,17)\",\"lakecolor\":\"rgb(17,17,17)\",\"landcolor\":\"rgb(17,17,17)\",\"showlakes\":true,\"showland\":true,\"subunitcolor\":\"#506784\"},\"hoverlabel\":{\"align\":\"left\"},\"hovermode\":\"closest\",\"mapbox\":{\"style\":\"dark\"},\"paper_bgcolor\":\"rgb(17,17,17)\",\"plot_bgcolor\":\"rgb(17,17,17)\",\"polar\":{\"angularaxis\":{\"gridcolor\":\"#506784\",\"linecolor\":\"#506784\",\"ticks\":\"\"},\"bgcolor\":\"rgb(17,17,17)\",\"radialaxis\":{\"gridcolor\":\"#506784\",\"linecolor\":\"#506784\",\"ticks\":\"\"}},\"scene\":{\"xaxis\":{\"backgroundcolor\":\"rgb(17,17,17)\",\"gridcolor\":\"#506784\",\"gridwidth\":2,\"linecolor\":\"#506784\",\"showbackground\":true,\"ticks\":\"\",\"zerolinecolor\":\"#C8D4E3\"},\"yaxis\":{\"backgroundcolor\":\"rgb(17,17,17)\",\"gridcolor\":\"#506784\",\"gridwidth\":2,\"linecolor\":\"#506784\",\"showbackground\":true,\"ticks\":\"\",\"zerolinecolor\":\"#C8D4E3\"},\"zaxis\":{\"backgroundcolor\":\"rgb(17,17,17)\",\"gridcolor\":\"#506784\",\"gridwidth\":2,\"linecolor\":\"#506784\",\"showbackground\":true,\"ticks\":\"\",\"zerolinecolor\":\"#C8D4E3\"}},\"shapedefaults\":{\"line\":{\"color\":\"#f2f5fa\"}},\"sliderdefaults\":{\"bgcolor\":\"#C8D4E3\",\"bordercolor\":\"rgb(17,17,17)\",\"borderwidth\":1,\"tickwidth\":0},\"ternary\":{\"aaxis\":{\"gridcolor\":\"#506784\",\"linecolor\":\"#506784\",\"ticks\":\"\"},\"baxis\":{\"gridcolor\":\"#506784\",\"linecolor\":\"#506784\",\"ticks\":\"\"},\"bgcolor\":\"rgb(17,17,17)\",\"caxis\":{\"gridcolor\":\"#506784\",\"linecolor\":\"#506784\",\"ticks\":\"\"}},\"title\":{\"x\":0.05},\"updatemenudefaults\":{\"bgcolor\":\"#506784\",\"borderwidth\":0},\"xaxis\":{\"automargin\":true,\"gridcolor\":\"#283442\",\"linecolor\":\"#506784\",\"ticks\":\"\",\"title\":{\"standoff\":15},\"zerolinecolor\":\"#283442\",\"zerolinewidth\":2},\"yaxis\":{\"automargin\":true,\"gridcolor\":\"#283442\",\"linecolor\":\"#506784\",\"ticks\":\"\",\"title\":{\"standoff\":15},\"zerolinecolor\":\"#283442\",\"zerolinewidth\":2}}},\"xaxis\":{\"nticks\":36},\"title\":{\"text\":\"Correlation Matrix\"},\"annotations\":[{\"font\":{\"color\":\"black\",\"size\":12},\"showarrow\":false,\"text\":\"1.0\",\"x\":\"ID\",\"xref\":\"x\",\"y\":\"ID\",\"yref\":\"y\"},{\"font\":{\"color\":\"black\",\"size\":12},\"showarrow\":false,\"text\":\"-0.01\",\"x\":\"CNT_CHILDREN\",\"xref\":\"x\",\"y\":\"ID\",\"yref\":\"y\"},{\"font\":{\"color\":\"black\",\"size\":12},\"showarrow\":false,\"text\":\"0.01\",\"x\":\"AMT_INCOME_TOTAL\",\"xref\":\"x\",\"y\":\"ID\",\"yref\":\"y\"},{\"font\":{\"color\":\"black\",\"size\":12},\"showarrow\":false,\"text\":\"-0.0\",\"x\":\"DAYS_BIRTH\",\"xref\":\"x\",\"y\":\"ID\",\"yref\":\"y\"},{\"font\":{\"color\":\"black\",\"size\":12},\"showarrow\":false,\"text\":\"-0.0\",\"x\":\"DAYS_EMPLOYED\",\"xref\":\"x\",\"y\":\"ID\",\"yref\":\"y\"},{\"font\":{\"color\":\"black\",\"size\":12},\"showarrow\":false,\"text\":\"nan\",\"x\":\"FLAG_MOBIL\",\"xref\":\"x\",\"y\":\"ID\",\"yref\":\"y\"},{\"font\":{\"color\":\"black\",\"size\":12},\"showarrow\":false,\"text\":\"-0.02\",\"x\":\"FLAG_WORK_PHONE\",\"xref\":\"x\",\"y\":\"ID\",\"yref\":\"y\"},{\"font\":{\"color\":\"black\",\"size\":12},\"showarrow\":false,\"text\":\"-0.02\",\"x\":\"FLAG_PHONE\",\"xref\":\"x\",\"y\":\"ID\",\"yref\":\"y\"},{\"font\":{\"color\":\"black\",\"size\":12},\"showarrow\":false,\"text\":\"0.03\",\"x\":\"FLAG_EMAIL\",\"xref\":\"x\",\"y\":\"ID\",\"yref\":\"y\"},{\"font\":{\"color\":\"black\",\"size\":12},\"showarrow\":false,\"text\":\"-0.0\",\"x\":\"CNT_FAM_MEMBERS\",\"xref\":\"x\",\"y\":\"ID\",\"yref\":\"y\"},{\"font\":{\"color\":\"black\",\"size\":12},\"showarrow\":false,\"text\":\"0.01\",\"x\":\"AGE\",\"xref\":\"x\",\"y\":\"ID\",\"yref\":\"y\"},{\"font\":{\"color\":\"black\",\"size\":12},\"showarrow\":false,\"text\":\"0.0\",\"x\":\"YEARS_EMPLOYED\",\"xref\":\"x\",\"y\":\"ID\",\"yref\":\"y\"},{\"font\":{\"color\":\"black\",\"size\":12},\"showarrow\":false,\"text\":\"-0.01\",\"x\":\"ID\",\"xref\":\"x\",\"y\":\"CNT_CHILDREN\",\"yref\":\"y\"},{\"font\":{\"color\":\"black\",\"size\":12},\"showarrow\":false,\"text\":\"1.0\",\"x\":\"CNT_CHILDREN\",\"xref\":\"x\",\"y\":\"CNT_CHILDREN\",\"yref\":\"y\"},{\"font\":{\"color\":\"black\",\"size\":12},\"showarrow\":false,\"text\":\"0.02\",\"x\":\"AMT_INCOME_TOTAL\",\"xref\":\"x\",\"y\":\"CNT_CHILDREN\",\"yref\":\"y\"},{\"font\":{\"color\":\"black\",\"size\":12},\"showarrow\":false,\"text\":\"0.35\",\"x\":\"DAYS_BIRTH\",\"xref\":\"x\",\"y\":\"CNT_CHILDREN\",\"yref\":\"y\"},{\"font\":{\"color\":\"black\",\"size\":12},\"showarrow\":false,\"text\":\"-0.24\",\"x\":\"DAYS_EMPLOYED\",\"xref\":\"x\",\"y\":\"CNT_CHILDREN\",\"yref\":\"y\"},{\"font\":{\"color\":\"black\",\"size\":12},\"showarrow\":false,\"text\":\"nan\",\"x\":\"FLAG_MOBIL\",\"xref\":\"x\",\"y\":\"CNT_CHILDREN\",\"yref\":\"y\"},{\"font\":{\"color\":\"black\",\"size\":12},\"showarrow\":false,\"text\":\"0.04\",\"x\":\"FLAG_WORK_PHONE\",\"xref\":\"x\",\"y\":\"CNT_CHILDREN\",\"yref\":\"y\"},{\"font\":{\"color\":\"black\",\"size\":12},\"showarrow\":false,\"text\":\"-0.04\",\"x\":\"FLAG_PHONE\",\"xref\":\"x\",\"y\":\"CNT_CHILDREN\",\"yref\":\"y\"},{\"font\":{\"color\":\"black\",\"size\":12},\"showarrow\":false,\"text\":\"0.03\",\"x\":\"FLAG_EMAIL\",\"xref\":\"x\",\"y\":\"CNT_CHILDREN\",\"yref\":\"y\"},{\"font\":{\"color\":\"black\",\"size\":12},\"showarrow\":false,\"text\":\"0.88\",\"x\":\"CNT_FAM_MEMBERS\",\"xref\":\"x\",\"y\":\"CNT_CHILDREN\",\"yref\":\"y\"},{\"font\":{\"color\":\"black\",\"size\":12},\"showarrow\":false,\"text\":\"-0.35\",\"x\":\"AGE\",\"xref\":\"x\",\"y\":\"CNT_CHILDREN\",\"yref\":\"y\"},{\"font\":{\"color\":\"black\",\"size\":12},\"showarrow\":false,\"text\":\"0.24\",\"x\":\"YEARS_EMPLOYED\",\"xref\":\"x\",\"y\":\"CNT_CHILDREN\",\"yref\":\"y\"},{\"font\":{\"color\":\"black\",\"size\":12},\"showarrow\":false,\"text\":\"0.01\",\"x\":\"ID\",\"xref\":\"x\",\"y\":\"AMT_INCOME_TOTAL\",\"yref\":\"y\"},{\"font\":{\"color\":\"black\",\"size\":12},\"showarrow\":false,\"text\":\"0.02\",\"x\":\"CNT_CHILDREN\",\"xref\":\"x\",\"y\":\"AMT_INCOME_TOTAL\",\"yref\":\"y\"},{\"font\":{\"color\":\"black\",\"size\":12},\"showarrow\":false,\"text\":\"1.0\",\"x\":\"AMT_INCOME_TOTAL\",\"xref\":\"x\",\"y\":\"AMT_INCOME_TOTAL\",\"yref\":\"y\"},{\"font\":{\"color\":\"black\",\"size\":12},\"showarrow\":false,\"text\":\"0.05\",\"x\":\"DAYS_BIRTH\",\"xref\":\"x\",\"y\":\"AMT_INCOME_TOTAL\",\"yref\":\"y\"},{\"font\":{\"color\":\"black\",\"size\":12},\"showarrow\":false,\"text\":\"-0.14\",\"x\":\"DAYS_EMPLOYED\",\"xref\":\"x\",\"y\":\"AMT_INCOME_TOTAL\",\"yref\":\"y\"},{\"font\":{\"color\":\"black\",\"size\":12},\"showarrow\":false,\"text\":\"nan\",\"x\":\"FLAG_MOBIL\",\"xref\":\"x\",\"y\":\"AMT_INCOME_TOTAL\",\"yref\":\"y\"},{\"font\":{\"color\":\"black\",\"size\":12},\"showarrow\":false,\"text\":\"-0.03\",\"x\":\"FLAG_WORK_PHONE\",\"xref\":\"x\",\"y\":\"AMT_INCOME_TOTAL\",\"yref\":\"y\"},{\"font\":{\"color\":\"black\",\"size\":12},\"showarrow\":false,\"text\":\"0.0\",\"x\":\"FLAG_PHONE\",\"xref\":\"x\",\"y\":\"AMT_INCOME_TOTAL\",\"yref\":\"y\"},{\"font\":{\"color\":\"black\",\"size\":12},\"showarrow\":false,\"text\":\"0.11\",\"x\":\"FLAG_EMAIL\",\"xref\":\"x\",\"y\":\"AMT_INCOME_TOTAL\",\"yref\":\"y\"},{\"font\":{\"color\":\"black\",\"size\":12},\"showarrow\":false,\"text\":\"0.01\",\"x\":\"CNT_FAM_MEMBERS\",\"xref\":\"x\",\"y\":\"AMT_INCOME_TOTAL\",\"yref\":\"y\"},{\"font\":{\"color\":\"black\",\"size\":12},\"showarrow\":false,\"text\":\"-0.05\",\"x\":\"AGE\",\"xref\":\"x\",\"y\":\"AMT_INCOME_TOTAL\",\"yref\":\"y\"},{\"font\":{\"color\":\"black\",\"size\":12},\"showarrow\":false,\"text\":\"0.14\",\"x\":\"YEARS_EMPLOYED\",\"xref\":\"x\",\"y\":\"AMT_INCOME_TOTAL\",\"yref\":\"y\"},{\"font\":{\"color\":\"black\",\"size\":12},\"showarrow\":false,\"text\":\"-0.0\",\"x\":\"ID\",\"xref\":\"x\",\"y\":\"DAYS_BIRTH\",\"yref\":\"y\"},{\"font\":{\"color\":\"black\",\"size\":12},\"showarrow\":false,\"text\":\"0.35\",\"x\":\"CNT_CHILDREN\",\"xref\":\"x\",\"y\":\"DAYS_BIRTH\",\"yref\":\"y\"},{\"font\":{\"color\":\"black\",\"size\":12},\"showarrow\":false,\"text\":\"0.05\",\"x\":\"AMT_INCOME_TOTAL\",\"xref\":\"x\",\"y\":\"DAYS_BIRTH\",\"yref\":\"y\"},{\"font\":{\"color\":\"black\",\"size\":12},\"showarrow\":false,\"text\":\"1.0\",\"x\":\"DAYS_BIRTH\",\"xref\":\"x\",\"y\":\"DAYS_BIRTH\",\"yref\":\"y\"},{\"font\":{\"color\":\"black\",\"size\":12},\"showarrow\":false,\"text\":\"-0.62\",\"x\":\"DAYS_EMPLOYED\",\"xref\":\"x\",\"y\":\"DAYS_BIRTH\",\"yref\":\"y\"},{\"font\":{\"color\":\"black\",\"size\":12},\"showarrow\":false,\"text\":\"nan\",\"x\":\"FLAG_MOBIL\",\"xref\":\"x\",\"y\":\"DAYS_BIRTH\",\"yref\":\"y\"},{\"font\":{\"color\":\"black\",\"size\":12},\"showarrow\":false,\"text\":\"0.17\",\"x\":\"FLAG_WORK_PHONE\",\"xref\":\"x\",\"y\":\"DAYS_BIRTH\",\"yref\":\"y\"},{\"font\":{\"color\":\"black\",\"size\":12},\"showarrow\":false,\"text\":\"-0.04\",\"x\":\"FLAG_PHONE\",\"xref\":\"x\",\"y\":\"DAYS_BIRTH\",\"yref\":\"y\"},{\"font\":{\"color\":\"black\",\"size\":12},\"showarrow\":false,\"text\":\"0.1\",\"x\":\"FLAG_EMAIL\",\"xref\":\"x\",\"y\":\"DAYS_BIRTH\",\"yref\":\"y\"},{\"font\":{\"color\":\"black\",\"size\":12},\"showarrow\":false,\"text\":\"0.31\",\"x\":\"CNT_FAM_MEMBERS\",\"xref\":\"x\",\"y\":\"DAYS_BIRTH\",\"yref\":\"y\"},{\"font\":{\"color\":\"black\",\"size\":12},\"showarrow\":false,\"text\":\"-1.0\",\"x\":\"AGE\",\"xref\":\"x\",\"y\":\"DAYS_BIRTH\",\"yref\":\"y\"},{\"font\":{\"color\":\"black\",\"size\":12},\"showarrow\":false,\"text\":\"0.62\",\"x\":\"YEARS_EMPLOYED\",\"xref\":\"x\",\"y\":\"DAYS_BIRTH\",\"yref\":\"y\"},{\"font\":{\"color\":\"black\",\"size\":12},\"showarrow\":false,\"text\":\"-0.0\",\"x\":\"ID\",\"xref\":\"x\",\"y\":\"DAYS_EMPLOYED\",\"yref\":\"y\"},{\"font\":{\"color\":\"black\",\"size\":12},\"showarrow\":false,\"text\":\"-0.24\",\"x\":\"CNT_CHILDREN\",\"xref\":\"x\",\"y\":\"DAYS_EMPLOYED\",\"yref\":\"y\"},{\"font\":{\"color\":\"black\",\"size\":12},\"showarrow\":false,\"text\":\"-0.14\",\"x\":\"AMT_INCOME_TOTAL\",\"xref\":\"x\",\"y\":\"DAYS_EMPLOYED\",\"yref\":\"y\"},{\"font\":{\"color\":\"black\",\"size\":12},\"showarrow\":false,\"text\":\"-0.62\",\"x\":\"DAYS_BIRTH\",\"xref\":\"x\",\"y\":\"DAYS_EMPLOYED\",\"yref\":\"y\"},{\"font\":{\"color\":\"black\",\"size\":12},\"showarrow\":false,\"text\":\"1.0\",\"x\":\"DAYS_EMPLOYED\",\"xref\":\"x\",\"y\":\"DAYS_EMPLOYED\",\"yref\":\"y\"},{\"font\":{\"color\":\"black\",\"size\":12},\"showarrow\":false,\"text\":\"nan\",\"x\":\"FLAG_MOBIL\",\"xref\":\"x\",\"y\":\"DAYS_EMPLOYED\",\"yref\":\"y\"},{\"font\":{\"color\":\"black\",\"size\":12},\"showarrow\":false,\"text\":\"-0.23\",\"x\":\"FLAG_WORK_PHONE\",\"xref\":\"x\",\"y\":\"DAYS_EMPLOYED\",\"yref\":\"y\"},{\"font\":{\"color\":\"black\",\"size\":12},\"showarrow\":false,\"text\":\"0.0\",\"x\":\"FLAG_PHONE\",\"xref\":\"x\",\"y\":\"DAYS_EMPLOYED\",\"yref\":\"y\"},{\"font\":{\"color\":\"black\",\"size\":12},\"showarrow\":false,\"text\":\"-0.07\",\"x\":\"FLAG_EMAIL\",\"xref\":\"x\",\"y\":\"DAYS_EMPLOYED\",\"yref\":\"y\"},{\"font\":{\"color\":\"black\",\"size\":12},\"showarrow\":false,\"text\":\"-0.23\",\"x\":\"CNT_FAM_MEMBERS\",\"xref\":\"x\",\"y\":\"DAYS_EMPLOYED\",\"yref\":\"y\"},{\"font\":{\"color\":\"black\",\"size\":12},\"showarrow\":false,\"text\":\"0.62\",\"x\":\"AGE\",\"xref\":\"x\",\"y\":\"DAYS_EMPLOYED\",\"yref\":\"y\"},{\"font\":{\"color\":\"black\",\"size\":12},\"showarrow\":false,\"text\":\"-1.0\",\"x\":\"YEARS_EMPLOYED\",\"xref\":\"x\",\"y\":\"DAYS_EMPLOYED\",\"yref\":\"y\"},{\"font\":{\"color\":\"black\",\"size\":12},\"showarrow\":false,\"text\":\"nan\",\"x\":\"ID\",\"xref\":\"x\",\"y\":\"FLAG_MOBIL\",\"yref\":\"y\"},{\"font\":{\"color\":\"black\",\"size\":12},\"showarrow\":false,\"text\":\"nan\",\"x\":\"CNT_CHILDREN\",\"xref\":\"x\",\"y\":\"FLAG_MOBIL\",\"yref\":\"y\"},{\"font\":{\"color\":\"black\",\"size\":12},\"showarrow\":false,\"text\":\"nan\",\"x\":\"AMT_INCOME_TOTAL\",\"xref\":\"x\",\"y\":\"FLAG_MOBIL\",\"yref\":\"y\"},{\"font\":{\"color\":\"black\",\"size\":12},\"showarrow\":false,\"text\":\"nan\",\"x\":\"DAYS_BIRTH\",\"xref\":\"x\",\"y\":\"FLAG_MOBIL\",\"yref\":\"y\"},{\"font\":{\"color\":\"black\",\"size\":12},\"showarrow\":false,\"text\":\"nan\",\"x\":\"DAYS_EMPLOYED\",\"xref\":\"x\",\"y\":\"FLAG_MOBIL\",\"yref\":\"y\"},{\"font\":{\"color\":\"black\",\"size\":12},\"showarrow\":false,\"text\":\"nan\",\"x\":\"FLAG_MOBIL\",\"xref\":\"x\",\"y\":\"FLAG_MOBIL\",\"yref\":\"y\"},{\"font\":{\"color\":\"black\",\"size\":12},\"showarrow\":false,\"text\":\"nan\",\"x\":\"FLAG_WORK_PHONE\",\"xref\":\"x\",\"y\":\"FLAG_MOBIL\",\"yref\":\"y\"},{\"font\":{\"color\":\"black\",\"size\":12},\"showarrow\":false,\"text\":\"nan\",\"x\":\"FLAG_PHONE\",\"xref\":\"x\",\"y\":\"FLAG_MOBIL\",\"yref\":\"y\"},{\"font\":{\"color\":\"black\",\"size\":12},\"showarrow\":false,\"text\":\"nan\",\"x\":\"FLAG_EMAIL\",\"xref\":\"x\",\"y\":\"FLAG_MOBIL\",\"yref\":\"y\"},{\"font\":{\"color\":\"black\",\"size\":12},\"showarrow\":false,\"text\":\"nan\",\"x\":\"CNT_FAM_MEMBERS\",\"xref\":\"x\",\"y\":\"FLAG_MOBIL\",\"yref\":\"y\"},{\"font\":{\"color\":\"black\",\"size\":12},\"showarrow\":false,\"text\":\"nan\",\"x\":\"AGE\",\"xref\":\"x\",\"y\":\"FLAG_MOBIL\",\"yref\":\"y\"},{\"font\":{\"color\":\"black\",\"size\":12},\"showarrow\":false,\"text\":\"nan\",\"x\":\"YEARS_EMPLOYED\",\"xref\":\"x\",\"y\":\"FLAG_MOBIL\",\"yref\":\"y\"},{\"font\":{\"color\":\"black\",\"size\":12},\"showarrow\":false,\"text\":\"-0.02\",\"x\":\"ID\",\"xref\":\"x\",\"y\":\"FLAG_WORK_PHONE\",\"yref\":\"y\"},{\"font\":{\"color\":\"black\",\"size\":12},\"showarrow\":false,\"text\":\"0.04\",\"x\":\"CNT_CHILDREN\",\"xref\":\"x\",\"y\":\"FLAG_WORK_PHONE\",\"yref\":\"y\"},{\"font\":{\"color\":\"black\",\"size\":12},\"showarrow\":false,\"text\":\"-0.03\",\"x\":\"AMT_INCOME_TOTAL\",\"xref\":\"x\",\"y\":\"FLAG_WORK_PHONE\",\"yref\":\"y\"},{\"font\":{\"color\":\"black\",\"size\":12},\"showarrow\":false,\"text\":\"0.17\",\"x\":\"DAYS_BIRTH\",\"xref\":\"x\",\"y\":\"FLAG_WORK_PHONE\",\"yref\":\"y\"},{\"font\":{\"color\":\"black\",\"size\":12},\"showarrow\":false,\"text\":\"-0.23\",\"x\":\"DAYS_EMPLOYED\",\"xref\":\"x\",\"y\":\"FLAG_WORK_PHONE\",\"yref\":\"y\"},{\"font\":{\"color\":\"black\",\"size\":12},\"showarrow\":false,\"text\":\"nan\",\"x\":\"FLAG_MOBIL\",\"xref\":\"x\",\"y\":\"FLAG_WORK_PHONE\",\"yref\":\"y\"},{\"font\":{\"color\":\"black\",\"size\":12},\"showarrow\":false,\"text\":\"1.0\",\"x\":\"FLAG_WORK_PHONE\",\"xref\":\"x\",\"y\":\"FLAG_WORK_PHONE\",\"yref\":\"y\"},{\"font\":{\"color\":\"black\",\"size\":12},\"showarrow\":false,\"text\":\"0.29\",\"x\":\"FLAG_PHONE\",\"xref\":\"x\",\"y\":\"FLAG_WORK_PHONE\",\"yref\":\"y\"},{\"font\":{\"color\":\"black\",\"size\":12},\"showarrow\":false,\"text\":\"-0.06\",\"x\":\"FLAG_EMAIL\",\"xref\":\"x\",\"y\":\"FLAG_WORK_PHONE\",\"yref\":\"y\"},{\"font\":{\"color\":\"black\",\"size\":12},\"showarrow\":false,\"text\":\"0.05\",\"x\":\"CNT_FAM_MEMBERS\",\"xref\":\"x\",\"y\":\"FLAG_WORK_PHONE\",\"yref\":\"y\"},{\"font\":{\"color\":\"black\",\"size\":12},\"showarrow\":false,\"text\":\"-0.17\",\"x\":\"AGE\",\"xref\":\"x\",\"y\":\"FLAG_WORK_PHONE\",\"yref\":\"y\"},{\"font\":{\"color\":\"black\",\"size\":12},\"showarrow\":false,\"text\":\"0.23\",\"x\":\"YEARS_EMPLOYED\",\"xref\":\"x\",\"y\":\"FLAG_WORK_PHONE\",\"yref\":\"y\"},{\"font\":{\"color\":\"black\",\"size\":12},\"showarrow\":false,\"text\":\"-0.02\",\"x\":\"ID\",\"xref\":\"x\",\"y\":\"FLAG_PHONE\",\"yref\":\"y\"},{\"font\":{\"color\":\"black\",\"size\":12},\"showarrow\":false,\"text\":\"-0.04\",\"x\":\"CNT_CHILDREN\",\"xref\":\"x\",\"y\":\"FLAG_PHONE\",\"yref\":\"y\"},{\"font\":{\"color\":\"black\",\"size\":12},\"showarrow\":false,\"text\":\"0.0\",\"x\":\"AMT_INCOME_TOTAL\",\"xref\":\"x\",\"y\":\"FLAG_PHONE\",\"yref\":\"y\"},{\"font\":{\"color\":\"black\",\"size\":12},\"showarrow\":false,\"text\":\"-0.04\",\"x\":\"DAYS_BIRTH\",\"xref\":\"x\",\"y\":\"FLAG_PHONE\",\"yref\":\"y\"},{\"font\":{\"color\":\"black\",\"size\":12},\"showarrow\":false,\"text\":\"0.0\",\"x\":\"DAYS_EMPLOYED\",\"xref\":\"x\",\"y\":\"FLAG_PHONE\",\"yref\":\"y\"},{\"font\":{\"color\":\"black\",\"size\":12},\"showarrow\":false,\"text\":\"nan\",\"x\":\"FLAG_MOBIL\",\"xref\":\"x\",\"y\":\"FLAG_PHONE\",\"yref\":\"y\"},{\"font\":{\"color\":\"black\",\"size\":12},\"showarrow\":false,\"text\":\"0.29\",\"x\":\"FLAG_WORK_PHONE\",\"xref\":\"x\",\"y\":\"FLAG_PHONE\",\"yref\":\"y\"},{\"font\":{\"color\":\"black\",\"size\":12},\"showarrow\":false,\"text\":\"1.0\",\"x\":\"FLAG_PHONE\",\"xref\":\"x\",\"y\":\"FLAG_PHONE\",\"yref\":\"y\"},{\"font\":{\"color\":\"black\",\"size\":12},\"showarrow\":false,\"text\":\"-0.0\",\"x\":\"FLAG_EMAIL\",\"xref\":\"x\",\"y\":\"FLAG_PHONE\",\"yref\":\"y\"},{\"font\":{\"color\":\"black\",\"size\":12},\"showarrow\":false,\"text\":\"-0.02\",\"x\":\"CNT_FAM_MEMBERS\",\"xref\":\"x\",\"y\":\"FLAG_PHONE\",\"yref\":\"y\"},{\"font\":{\"color\":\"black\",\"size\":12},\"showarrow\":false,\"text\":\"0.04\",\"x\":\"AGE\",\"xref\":\"x\",\"y\":\"FLAG_PHONE\",\"yref\":\"y\"},{\"font\":{\"color\":\"black\",\"size\":12},\"showarrow\":false,\"text\":\"-0.0\",\"x\":\"YEARS_EMPLOYED\",\"xref\":\"x\",\"y\":\"FLAG_PHONE\",\"yref\":\"y\"},{\"font\":{\"color\":\"black\",\"size\":12},\"showarrow\":false,\"text\":\"0.03\",\"x\":\"ID\",\"xref\":\"x\",\"y\":\"FLAG_EMAIL\",\"yref\":\"y\"},{\"font\":{\"color\":\"black\",\"size\":12},\"showarrow\":false,\"text\":\"0.03\",\"x\":\"CNT_CHILDREN\",\"xref\":\"x\",\"y\":\"FLAG_EMAIL\",\"yref\":\"y\"},{\"font\":{\"color\":\"black\",\"size\":12},\"showarrow\":false,\"text\":\"0.11\",\"x\":\"AMT_INCOME_TOTAL\",\"xref\":\"x\",\"y\":\"FLAG_EMAIL\",\"yref\":\"y\"},{\"font\":{\"color\":\"black\",\"size\":12},\"showarrow\":false,\"text\":\"0.1\",\"x\":\"DAYS_BIRTH\",\"xref\":\"x\",\"y\":\"FLAG_EMAIL\",\"yref\":\"y\"},{\"font\":{\"color\":\"black\",\"size\":12},\"showarrow\":false,\"text\":\"-0.07\",\"x\":\"DAYS_EMPLOYED\",\"xref\":\"x\",\"y\":\"FLAG_EMAIL\",\"yref\":\"y\"},{\"font\":{\"color\":\"black\",\"size\":12},\"showarrow\":false,\"text\":\"nan\",\"x\":\"FLAG_MOBIL\",\"xref\":\"x\",\"y\":\"FLAG_EMAIL\",\"yref\":\"y\"},{\"font\":{\"color\":\"black\",\"size\":12},\"showarrow\":false,\"text\":\"-0.06\",\"x\":\"FLAG_WORK_PHONE\",\"xref\":\"x\",\"y\":\"FLAG_EMAIL\",\"yref\":\"y\"},{\"font\":{\"color\":\"black\",\"size\":12},\"showarrow\":false,\"text\":\"-0.0\",\"x\":\"FLAG_PHONE\",\"xref\":\"x\",\"y\":\"FLAG_EMAIL\",\"yref\":\"y\"},{\"font\":{\"color\":\"black\",\"size\":12},\"showarrow\":false,\"text\":\"1.0\",\"x\":\"FLAG_EMAIL\",\"xref\":\"x\",\"y\":\"FLAG_EMAIL\",\"yref\":\"y\"},{\"font\":{\"color\":\"black\",\"size\":12},\"showarrow\":false,\"text\":\"0.02\",\"x\":\"CNT_FAM_MEMBERS\",\"xref\":\"x\",\"y\":\"FLAG_EMAIL\",\"yref\":\"y\"},{\"font\":{\"color\":\"black\",\"size\":12},\"showarrow\":false,\"text\":\"-0.1\",\"x\":\"AGE\",\"xref\":\"x\",\"y\":\"FLAG_EMAIL\",\"yref\":\"y\"},{\"font\":{\"color\":\"black\",\"size\":12},\"showarrow\":false,\"text\":\"0.07\",\"x\":\"YEARS_EMPLOYED\",\"xref\":\"x\",\"y\":\"FLAG_EMAIL\",\"yref\":\"y\"},{\"font\":{\"color\":\"black\",\"size\":12},\"showarrow\":false,\"text\":\"-0.0\",\"x\":\"ID\",\"xref\":\"x\",\"y\":\"CNT_FAM_MEMBERS\",\"yref\":\"y\"},{\"font\":{\"color\":\"black\",\"size\":12},\"showarrow\":false,\"text\":\"0.88\",\"x\":\"CNT_CHILDREN\",\"xref\":\"x\",\"y\":\"CNT_FAM_MEMBERS\",\"yref\":\"y\"},{\"font\":{\"color\":\"black\",\"size\":12},\"showarrow\":false,\"text\":\"0.01\",\"x\":\"AMT_INCOME_TOTAL\",\"xref\":\"x\",\"y\":\"CNT_FAM_MEMBERS\",\"yref\":\"y\"},{\"font\":{\"color\":\"black\",\"size\":12},\"showarrow\":false,\"text\":\"0.31\",\"x\":\"DAYS_BIRTH\",\"xref\":\"x\",\"y\":\"CNT_FAM_MEMBERS\",\"yref\":\"y\"},{\"font\":{\"color\":\"black\",\"size\":12},\"showarrow\":false,\"text\":\"-0.23\",\"x\":\"DAYS_EMPLOYED\",\"xref\":\"x\",\"y\":\"CNT_FAM_MEMBERS\",\"yref\":\"y\"},{\"font\":{\"color\":\"black\",\"size\":12},\"showarrow\":false,\"text\":\"nan\",\"x\":\"FLAG_MOBIL\",\"xref\":\"x\",\"y\":\"CNT_FAM_MEMBERS\",\"yref\":\"y\"},{\"font\":{\"color\":\"black\",\"size\":12},\"showarrow\":false,\"text\":\"0.05\",\"x\":\"FLAG_WORK_PHONE\",\"xref\":\"x\",\"y\":\"CNT_FAM_MEMBERS\",\"yref\":\"y\"},{\"font\":{\"color\":\"black\",\"size\":12},\"showarrow\":false,\"text\":\"-0.02\",\"x\":\"FLAG_PHONE\",\"xref\":\"x\",\"y\":\"CNT_FAM_MEMBERS\",\"yref\":\"y\"},{\"font\":{\"color\":\"black\",\"size\":12},\"showarrow\":false,\"text\":\"0.02\",\"x\":\"FLAG_EMAIL\",\"xref\":\"x\",\"y\":\"CNT_FAM_MEMBERS\",\"yref\":\"y\"},{\"font\":{\"color\":\"black\",\"size\":12},\"showarrow\":false,\"text\":\"1.0\",\"x\":\"CNT_FAM_MEMBERS\",\"xref\":\"x\",\"y\":\"CNT_FAM_MEMBERS\",\"yref\":\"y\"},{\"font\":{\"color\":\"black\",\"size\":12},\"showarrow\":false,\"text\":\"-0.31\",\"x\":\"AGE\",\"xref\":\"x\",\"y\":\"CNT_FAM_MEMBERS\",\"yref\":\"y\"},{\"font\":{\"color\":\"black\",\"size\":12},\"showarrow\":false,\"text\":\"0.23\",\"x\":\"YEARS_EMPLOYED\",\"xref\":\"x\",\"y\":\"CNT_FAM_MEMBERS\",\"yref\":\"y\"},{\"font\":{\"color\":\"black\",\"size\":12},\"showarrow\":false,\"text\":\"0.01\",\"x\":\"ID\",\"xref\":\"x\",\"y\":\"AGE\",\"yref\":\"y\"},{\"font\":{\"color\":\"black\",\"size\":12},\"showarrow\":false,\"text\":\"-0.35\",\"x\":\"CNT_CHILDREN\",\"xref\":\"x\",\"y\":\"AGE\",\"yref\":\"y\"},{\"font\":{\"color\":\"black\",\"size\":12},\"showarrow\":false,\"text\":\"-0.05\",\"x\":\"AMT_INCOME_TOTAL\",\"xref\":\"x\",\"y\":\"AGE\",\"yref\":\"y\"},{\"font\":{\"color\":\"black\",\"size\":12},\"showarrow\":false,\"text\":\"-1.0\",\"x\":\"DAYS_BIRTH\",\"xref\":\"x\",\"y\":\"AGE\",\"yref\":\"y\"},{\"font\":{\"color\":\"black\",\"size\":12},\"showarrow\":false,\"text\":\"0.62\",\"x\":\"DAYS_EMPLOYED\",\"xref\":\"x\",\"y\":\"AGE\",\"yref\":\"y\"},{\"font\":{\"color\":\"black\",\"size\":12},\"showarrow\":false,\"text\":\"nan\",\"x\":\"FLAG_MOBIL\",\"xref\":\"x\",\"y\":\"AGE\",\"yref\":\"y\"},{\"font\":{\"color\":\"black\",\"size\":12},\"showarrow\":false,\"text\":\"-0.17\",\"x\":\"FLAG_WORK_PHONE\",\"xref\":\"x\",\"y\":\"AGE\",\"yref\":\"y\"},{\"font\":{\"color\":\"black\",\"size\":12},\"showarrow\":false,\"text\":\"0.04\",\"x\":\"FLAG_PHONE\",\"xref\":\"x\",\"y\":\"AGE\",\"yref\":\"y\"},{\"font\":{\"color\":\"black\",\"size\":12},\"showarrow\":false,\"text\":\"-0.1\",\"x\":\"FLAG_EMAIL\",\"xref\":\"x\",\"y\":\"AGE\",\"yref\":\"y\"},{\"font\":{\"color\":\"black\",\"size\":12},\"showarrow\":false,\"text\":\"-0.31\",\"x\":\"CNT_FAM_MEMBERS\",\"xref\":\"x\",\"y\":\"AGE\",\"yref\":\"y\"},{\"font\":{\"color\":\"black\",\"size\":12},\"showarrow\":false,\"text\":\"1.0\",\"x\":\"AGE\",\"xref\":\"x\",\"y\":\"AGE\",\"yref\":\"y\"},{\"font\":{\"color\":\"black\",\"size\":12},\"showarrow\":false,\"text\":\"-0.62\",\"x\":\"YEARS_EMPLOYED\",\"xref\":\"x\",\"y\":\"AGE\",\"yref\":\"y\"},{\"font\":{\"color\":\"black\",\"size\":12},\"showarrow\":false,\"text\":\"0.0\",\"x\":\"ID\",\"xref\":\"x\",\"y\":\"YEARS_EMPLOYED\",\"yref\":\"y\"},{\"font\":{\"color\":\"black\",\"size\":12},\"showarrow\":false,\"text\":\"0.24\",\"x\":\"CNT_CHILDREN\",\"xref\":\"x\",\"y\":\"YEARS_EMPLOYED\",\"yref\":\"y\"},{\"font\":{\"color\":\"black\",\"size\":12},\"showarrow\":false,\"text\":\"0.14\",\"x\":\"AMT_INCOME_TOTAL\",\"xref\":\"x\",\"y\":\"YEARS_EMPLOYED\",\"yref\":\"y\"},{\"font\":{\"color\":\"black\",\"size\":12},\"showarrow\":false,\"text\":\"0.62\",\"x\":\"DAYS_BIRTH\",\"xref\":\"x\",\"y\":\"YEARS_EMPLOYED\",\"yref\":\"y\"},{\"font\":{\"color\":\"black\",\"size\":12},\"showarrow\":false,\"text\":\"-1.0\",\"x\":\"DAYS_EMPLOYED\",\"xref\":\"x\",\"y\":\"YEARS_EMPLOYED\",\"yref\":\"y\"},{\"font\":{\"color\":\"black\",\"size\":12},\"showarrow\":false,\"text\":\"nan\",\"x\":\"FLAG_MOBIL\",\"xref\":\"x\",\"y\":\"YEARS_EMPLOYED\",\"yref\":\"y\"},{\"font\":{\"color\":\"black\",\"size\":12},\"showarrow\":false,\"text\":\"0.23\",\"x\":\"FLAG_WORK_PHONE\",\"xref\":\"x\",\"y\":\"YEARS_EMPLOYED\",\"yref\":\"y\"},{\"font\":{\"color\":\"black\",\"size\":12},\"showarrow\":false,\"text\":\"-0.0\",\"x\":\"FLAG_PHONE\",\"xref\":\"x\",\"y\":\"YEARS_EMPLOYED\",\"yref\":\"y\"},{\"font\":{\"color\":\"black\",\"size\":12},\"showarrow\":false,\"text\":\"0.07\",\"x\":\"FLAG_EMAIL\",\"xref\":\"x\",\"y\":\"YEARS_EMPLOYED\",\"yref\":\"y\"},{\"font\":{\"color\":\"black\",\"size\":12},\"showarrow\":false,\"text\":\"0.23\",\"x\":\"CNT_FAM_MEMBERS\",\"xref\":\"x\",\"y\":\"YEARS_EMPLOYED\",\"yref\":\"y\"},{\"font\":{\"color\":\"black\",\"size\":12},\"showarrow\":false,\"text\":\"-0.62\",\"x\":\"AGE\",\"xref\":\"x\",\"y\":\"YEARS_EMPLOYED\",\"yref\":\"y\"},{\"font\":{\"color\":\"black\",\"size\":12},\"showarrow\":false,\"text\":\"1.0\",\"x\":\"YEARS_EMPLOYED\",\"xref\":\"x\",\"y\":\"YEARS_EMPLOYED\",\"yref\":\"y\"}]},                        {\"responsive\": true}                    ).then(function(){\n",
              "                            \n",
              "var gd = document.getElementById('2cf10dc4-789b-447c-af11-164a544284ed');\n",
              "var x = new MutationObserver(function (mutations, observer) {{\n",
              "        var display = window.getComputedStyle(gd).display;\n",
              "        if (!display || display === 'none') {{\n",
              "            console.log([gd, 'removed!']);\n",
              "            Plotly.purge(gd);\n",
              "            observer.disconnect();\n",
              "        }}\n",
              "}});\n",
              "\n",
              "// Listen for the removal of the full notebook cells\n",
              "var notebookContainer = gd.closest('#notebook-container');\n",
              "if (notebookContainer) {{\n",
              "    x.observe(notebookContainer, {childList: true});\n",
              "}}\n",
              "\n",
              "// Listen for the clearing of the current output cell\n",
              "var outputEl = gd.closest('.output');\n",
              "if (outputEl) {{\n",
              "    x.observe(outputEl, {childList: true});\n",
              "}}\n",
              "\n",
              "                        })                };                            </script>        </div>\n",
              "</body>\n",
              "</html>"
            ]
          },
          "metadata": {}
        }
      ]
    },
    {
      "cell_type": "code",
      "source": [
        "# Preprocessing\n",
        "# Merge datasets on ID\n",
        "merged_df = pd.merge(app_record, credit_record, on='ID')"
      ],
      "metadata": {
        "id": "NcLZtgrV56l2"
      },
      "execution_count": null,
      "outputs": []
    },
    {
      "cell_type": "code",
      "source": [
        "# Create a new column to classify clients as 'good' or 'bad' based on STATUS\n",
        "def classify_client(status):\n",
        "    if status in ['2', '3', '4', '5']:\n",
        "        return 'bad'\n",
        "    else:\n",
        "        return 'good'\n",
        "\n",
        "merged_df['client_status'] = merged_df['STATUS'].apply(classify_client)"
      ],
      "metadata": {
        "id": "sAN-fyRf7CBy"
      },
      "execution_count": null,
      "outputs": []
    },
    {
      "cell_type": "code",
      "source": [
        "# Label encoding for the target variable\n",
        "label_encoder = LabelEncoder()\n",
        "merged_df['client_status'] = label_encoder.fit_transform(merged_df['client_status'])"
      ],
      "metadata": {
        "id": "8X8j_vP57B-Y"
      },
      "execution_count": null,
      "outputs": []
    },
    {
      "cell_type": "code",
      "source": [
        "# Drop columns that won't be used\n",
        "merged_df.drop(columns=['ID', 'STATUS', 'MONTHS_BALANCE'], inplace=True)"
      ],
      "metadata": {
        "id": "s_htRds67B4b"
      },
      "execution_count": null,
      "outputs": []
    },
    {
      "cell_type": "code",
      "source": [
        "# Encode categorical variables\n",
        "categorical_cols = merged_df.select_dtypes(include=['object']).columns\n",
        "merged_df = pd.get_dummies(merged_df, columns=categorical_cols, drop_first=True)"
      ],
      "metadata": {
        "id": "5VzOQTET7B07"
      },
      "execution_count": null,
      "outputs": []
    },
    {
      "cell_type": "code",
      "source": [
        "# Handle missing values\n",
        "merged_df.fillna(merged_df.median(), inplace=True)"
      ],
      "metadata": {
        "id": "YnSc76iB7ByY"
      },
      "execution_count": null,
      "outputs": []
    },
    {
      "cell_type": "code",
      "source": [
        "# Split data into features and target variable\n",
        "X = merged_df.drop(columns=['client_status'])\n",
        "y = merged_df['client_status']"
      ],
      "metadata": {
        "id": "qBTNSsx-7Bvr"
      },
      "execution_count": null,
      "outputs": []
    },
    {
      "cell_type": "code",
      "source": [
        "# Handle imbalanced data using SMOTE\n",
        "smote = SMOTE()\n",
        "X_resampled, y_resampled = smote.fit_resample(X, y)"
      ],
      "metadata": {
        "id": "qYtUv8Ma7L-6"
      },
      "execution_count": null,
      "outputs": []
    },
    {
      "cell_type": "code",
      "source": [
        "# Standardize features\n",
        "scaler = StandardScaler()\n",
        "X_resampled = scaler.fit_transform(X_resampled)"
      ],
      "metadata": {
        "id": "w70gis4a7L7i"
      },
      "execution_count": null,
      "outputs": []
    },
    {
      "cell_type": "code",
      "source": [],
      "metadata": {
        "id": "5VInKHp4jWFj"
      },
      "execution_count": null,
      "outputs": []
    },
    {
      "cell_type": "code",
      "source": [
        "# Split data into training and testing sets\n",
        "X_train, X_test, y_train, y_test = train_test_split(X_resampled, y_resampled, test_size=0.2, random_state=42)"
      ],
      "metadata": {
        "id": "db1FSGSx7Omu"
      },
      "execution_count": null,
      "outputs": []
    },
    {
      "cell_type": "code",
      "source": [
        "# Logistic Regression\n",
        "log_reg = LogisticRegression()\n",
        "log_reg.fit(X_train, y_train)\n",
        "y_pred_log_reg = log_reg.predict(X_test)\n",
        "accuracy_log_reg = accuracy_score(y_test, y_pred_log_reg)\n",
        "accuracy_log_reg"
      ],
      "metadata": {
        "colab": {
          "base_uri": "https://localhost:8080/"
        },
        "id": "7JzV7R12QSzI",
        "outputId": "956cbbf9-b4a0-4f42-9afb-e2a415f44310"
      },
      "execution_count": null,
      "outputs": [
        {
          "output_type": "execute_result",
          "data": {
            "text/plain": [
              "0.6503427916955687"
            ]
          },
          "metadata": {},
          "execution_count": 18
        }
      ]
    },
    {
      "cell_type": "code",
      "source": [
        "from sklearn.linear_model import LogisticRegression\n",
        "from sklearn.metrics import accuracy_score, precision_score, f1_score, confusion_matrix\n",
        "import matplotlib.pyplot as plt\n",
        "import seaborn as sns\n",
        "\n",
        "# Assuming you've already split your data into training and testing sets\n",
        "# and trained the Logistic Regression model\n",
        "# X_train, X_test, y_train, y_test are already defined\n",
        "\n",
        "# Train the Logistic Regression model\n",
        "log_reg = LogisticRegression()\n",
        "log_reg.fit(X_train, y_train)\n",
        "\n",
        "# Make predictions on the test set\n",
        "y_pred = log_reg.predict(X_test)\n",
        "\n",
        "\n",
        "\n",
        "# 4. Confusion Matrix\n",
        "cm = confusion_matrix(y_test, y_pred)\n",
        "print('Confusion Matrix:')\n",
        "print(cm)\n",
        "\n",
        "# Plotting the confusion matrix as a heatmap\n",
        "plt.figure(figsize=(6, 6))\n",
        "sns.heatmap(cm, annot=True, fmt='d', cmap='Blues', xticklabels=['No Default', 'Default'], yticklabels=['No Default', 'Default'])\n",
        "plt.title('Confusion Matrix')\n",
        "plt.xlabel('Predicted')\n",
        "plt.ylabel('Actual')\n",
        "plt.show()\n"
      ],
      "metadata": {
        "colab": {
          "base_uri": "https://localhost:8080/",
          "height": 616
        },
        "id": "wEbu_Yxg7L1h",
        "outputId": "d11c2da2-e5b4-4621-c88b-6f47ff362e41"
      },
      "execution_count": null,
      "outputs": [
        {
          "output_type": "stream",
          "name": "stdout",
          "text": [
            "Confusion Matrix:\n",
            "[[ 93956  61469]\n",
            " [ 46909 107621]]\n"
          ]
        },
        {
          "output_type": "display_data",
          "data": {
            "text/plain": [
              "<Figure size 600x600 with 2 Axes>"
            ],
            "image/png": "[encoded data removed]"
          },
          "metadata": {}
        }
      ]
    },
    {
      "cell_type": "code",
      "source": [
        "from sklearn.metrics import classification_report\n",
        "\n",
        "# Assuming you have already made predictions using Logistic Regression\n",
        "# and the y_test and y_pred variables are available\n",
        "\n",
        "# Generate classification report for Logistic Regression\n",
        "print(\"Logistic Regression Classification Report:\")\n",
        "print(classification_report(y_test, y_pred))\n"
      ],
      "metadata": {
        "colab": {
          "base_uri": "https://localhost:8080/"
        },
        "id": "lR58Xp1G71Xf",
        "outputId": "902d5b4f-1d0d-444e-815e-b2cf4dff135e"
      },
      "execution_count": null,
      "outputs": [
        {
          "output_type": "stream",
          "name": "stdout",
          "text": [
            "Logistic Regression Classification Report:\n",
            "              precision    recall  f1-score   support\n",
            "\n",
            "           0       0.67      0.60      0.63    155425\n",
            "           1       0.64      0.70      0.67    154530\n",
            "\n",
            "    accuracy                           0.65    309955\n",
            "   macro avg       0.65      0.65      0.65    309955\n",
            "weighted avg       0.65      0.65      0.65    309955\n",
            "\n"
          ]
        }
      ]
    },
    {
      "cell_type": "code",
      "source": [
        "# Random Forest Classifier\n",
        "rf_clf = RandomForestClassifier()\n",
        "rf_clf.fit(X_train, y_train)\n",
        "y_pred_rf = rf_clf.predict(X_test)\n",
        "accuracy_rf_clf = accuracy_score(y_test, y_pred_rf)\n",
        "accuracy_rf_clf"
      ],
      "metadata": {
        "colab": {
          "base_uri": "https://localhost:8080/"
        },
        "id": "f2YAntp0QUr6",
        "outputId": "313b6cae-9e8d-43dc-9d68-f1b4c830ea14"
      },
      "execution_count": null,
      "outputs": [
        {
          "output_type": "execute_result",
          "data": {
            "text/plain": [
              "0.9825264957816457"
            ]
          },
          "metadata": {},
          "execution_count": 21
        }
      ]
    },
    {
      "cell_type": "code",
      "source": [
        "# Determine which model has higher accuracy\n",
        "if accuracy_log_reg > accuracy_rf_clf:\n",
        "    chosen_model = log_reg\n",
        "    y_pred_chosen = y_pred_log_reg\n",
        "    chosen_model_name = 'Logistic Regression'\n",
        "else:\n",
        "    chosen_model = rf_clf\n",
        "    y_pred_chosen = y_pred_rf\n",
        "    chosen_model_name = 'Random Forest Classifier'"
      ],
      "metadata": {
        "id": "VWC8sUF9QXrx"
      },
      "execution_count": null,
      "outputs": []
    },
    {
      "cell_type": "code",
      "source": [
        "# Print the classification reports\n",
        "print(f\"{chosen_model_name} Classification Report:\")\n",
        "print(classification_report(y_test, y_pred_chosen))"
      ],
      "metadata": {
        "colab": {
          "base_uri": "https://localhost:8080/"
        },
        "id": "vW7dkQsfQXf8",
        "outputId": "11e071cf-f799-4eb3-d0ae-7988603f4099"
      },
      "execution_count": null,
      "outputs": [
        {
          "output_type": "stream",
          "name": "stdout",
          "text": [
            "Random Forest Classifier Classification Report:\n",
            "              precision    recall  f1-score   support\n",
            "\n",
            "           0       0.97      1.00      0.98    155425\n",
            "           1       1.00      0.97      0.98    154530\n",
            "\n",
            "    accuracy                           0.98    309955\n",
            "   macro avg       0.98      0.98      0.98    309955\n",
            "weighted avg       0.98      0.98      0.98    309955\n",
            "\n"
          ]
        }
      ]
    },
    {
      "cell_type": "code",
      "source": [
        "# ROC Curve\n",
        "fpr, tpr, _ = roc_curve(y_test, chosen_model.predict_proba(X_test)[:, 1])\n",
        "roc_auc = auc(fpr, tpr)\n",
        "\n",
        "# Display ROC Curve\n",
        "fig = go.Figure()\n",
        "fig.add_trace(go.Scatter(x=fpr, y=tpr, mode='lines', name=f'{chosen_model_name} (AUC = {roc_auc:.2f})', line=dict(color='firebrick', width=2)))\n",
        "fig.update_layout(title='ROC Curve', xaxis_title='False Positive Rate', yaxis_title='True Positive Rate', template='plotly_dark', title_font_size=20, title_x=0.5)\n",
        "fig.show()"
      ],
      "metadata": {
        "colab": {
          "base_uri": "https://localhost:8080/",
          "height": 542
        },
        "id": "e6SVvxYSQeoE",
        "outputId": "72eeb0ad-a220-4ea1-8521-ecad6b819b41"
      },
      "execution_count": null,
      "outputs": [
        {
          "output_type": "display_data",
          "data": {
            "text/html": [
              "<html>\n",
              "<head><meta charset=\"utf-8\" /></head>\n",
              "<body>\n",
              "    <div>            <script src=\"https://cdnjs.cloudflare.com/ajax/libs/mathjax/2.7.5/MathJax.js?config=TeX-AMS-MML_SVG\"></script><script type=\"text/javascript\">if (window.MathJax && window.MathJax.Hub && window.MathJax.Hub.Config) {window.MathJax.Hub.Config({SVG: {font: \"STIX-Web\"}});}</script>                <script type=\"text/javascript\">window.PlotlyConfig = {MathJaxConfig: 'local'};</script>\n",
              "        <script charset=\"utf-8\" src=\"https://cdn.plot.ly/plotly-2.35.2.min.js\"></script>                <div id=\"15aeb34f-22b1-4712-a3bb-02e626655fd8\" class=\"plotly-graph-div\" style=\"height:525px; width:100%;\"></div>            <script type=\"text/javascript\">                                    window.PLOTLYENV=window.PLOTLYENV || {};                                    if (document.getElementById(\"15aeb34f-22b1-4712-a3bb-02e626655fd8\")) {                    Plotly.newPlot(                        \"15aeb34f-22b1-4712-a3bb-02e626655fd8\",                        [{\"line\":{\"color\":\"firebrick\",\"width\":2},\"mode\":\"lines\",\"name\":\"Random Forest Classifier (AUC = 1.00)\",\"x\":[0.0,0.00018658516969599485,0.00018658516969599485,0.00018658516969599485,0.00018658516969599485,0.00018658516969599485,0.00018658516969599485,0.00018658516969599485,0.00018658516969599485,0.00018658516969599485,0.00018658516969599485,0.00018658516969599485,0.00018658516969599485,0.00018658516969599485,0.00018658516969599485,0.00018658516969599485,0.00018658516969599485,0.00018658516969599485,0.00018658516969599485,0.00018658516969599485,0.00018658516969599485,0.00018658516969599485,0.00018658516969599485,0.00018658516969599485,0.00018658516969599485,0.00018658516969599485,0.00018658516969599485,0.00018658516969599485,0.00018658516969599485,0.00018658516969599485,0.00018658516969599485,0.00018658516969599485,0.00018658516969599485,0.00018658516969599485,0.00018658516969599485,0.00018658516969599485,0.00018658516969599485,0.00018658516969599485,0.00018658516969599485,0.00018658516969599485,0.00018658516969599485,0.00018658516969599485,0.00018658516969599485,0.00018658516969599485,0.00018658516969599485,0.00018658516969599485,0.00018658516969599485,0.00018658516969599485,0.00018658516969599485,0.00018658516969599485,0.00018658516969599485,0.00018658516969599485,0.00018658516969599485,0.00018658516969599485,0.00018658516969599485,0.00018658516969599485,0.00018658516969599485,0.00019301914106482226,0.00019301914106482226,0.00019301914106482226,0.00019301914106482226,0.00019301914106482226,0.00019301914106482226,0.00019301914106482226,0.00019301914106482226,0.00019301914106482226,0.00019301914106482226,0.00019301914106482226,0.00019301914106482226,0.00019301914106482226,0.00019301914106482226,0.00019301914106482226,0.00019301914106482226,0.00019301914106482226,0.00019301914106482226,0.00019301914106482226,0.00019301914106482226,0.00019301914106482226,0.00019301914106482226,0.00019301914106482226,0.00019301914106482226,0.00019301914106482226,0.00019301914106482226,0.00019301914106482226,0.00019301914106482226,0.00019301914106482226,0.00019301914106482226,0.00019301914106482226,0.00019301914106482226,0.00019301914106482226,0.00019301914106482226,0.00019301914106482226,0.00019301914106482226,0.00019301914106482226,0.00019301914106482226,0.00019301914106482226,0.00019301914106482226,0.00019301914106482226,0.00019301914106482226,0.00019301914106482226,0.00019301914106482226,0.00019301914106482226,0.00019301914106482226,0.00019301914106482226,0.00019301914106482226,0.00019301914106482226,0.00019301914106482226,0.00019301914106482226,0.00019301914106482226,0.00019301914106482226,0.00019301914106482226,0.00019301914106482226,0.00019301914106482226,0.00019301914106482226,0.00019301914106482226,0.00019301914106482226,0.00019301914106482226,0.00019301914106482226,0.00019301914106482226,0.00019945311243364967,0.00019945311243364967,0.00019945311243364967,0.00019945311243364967,0.00019945311243364967,0.00019945311243364967,0.00019945311243364967,0.00019945311243364967,0.00019945311243364967,0.00019945311243364967,0.00019945311243364967,0.00019945311243364967,0.00019945311243364967,0.00019945311243364967,0.00019945311243364967,0.00019945311243364967,0.00019945311243364967,0.00019945311243364967,0.00019945311243364967,0.00019945311243364967,0.00019945311243364967,0.00019945311243364967,0.00019945311243364967,0.00019945311243364967,0.00019945311243364967,0.00019945311243364967,0.00019945311243364967,0.00019945311243364967,0.00019945311243364967,0.00019945311243364967,0.00020588708380247709,0.00020588708380247709,0.00020588708380247709,0.00020588708380247709,0.00020588708380247709,0.00020588708380247709,0.00020588708380247709,0.00020588708380247709,0.00020588708380247709,0.00020588708380247709,0.00020588708380247709,0.00020588708380247709,0.00034743445391668005,0.00047611388129322824,0.0005790574231944668,0.0007206047933086697,0.0008428502493163906,0.0009264918771111468,0.0010487373331188677,0.0011902847032330705,0.0013125301592407915,0.0014412095866173395,0.001576322985362715,0.0017693421264275374,0.0021939842367701464,0.0023097957214090396,0.0024642110342608975,0.0025800225188997907,0.002708701946276339,0.002863117259128197,0.0029853627151359176,0.0030239665433488823,0.0031590799420942576,0.0033006273122084605,0.003731703393919897,0.0038925526781405824,0.004034100048254785,0.004188515361106643,0.004201383303844298,0.0043493646453273286,0.004458742158597394,0.0049348560398906225,0.00494129001125945,0.005095705324111308,0.0051021392954801355,0.005925687630690043,0.006028631172591282,0.006215216342287277,0.006646292423998714,0.00665272639536754,0.006774971851375261,0.006948689078333602,0.0069551230497024285,0.007115972333923114,0.007521312530159241,0.007540614444265723,0.0077207656425928905,0.008126105838829016,0.008248351294836738,0.008660125462441692,0.009129805372366092,0.009284220685217951,0.009644523081872285,0.00983110825156828,0.010191410648222616,0.010358693903812128,0.010712562329097635,0.011195110181759692,0.011323789609136239,0.011465336979250442,0.011909281003699533,0.012308187228566832,0.012321055171304487,0.012977320250924884,0.013897378156667204,0.014322020267009811,0.015254946115489786,0.015679588225832396,0.01608492842206852,0.01609136239343735,0.016252211677658033,0.0163615891909281,0.017217307382982147,0.017558307865529997,0.017680553321537718,0.018137365288724464,0.018143799260093293,0.018536271513591763,0.018542705484960592,0.019462763390702912,0.019623612674923598,0.020022518899790898,0.020125462441692134,0.02026057584043751,0.02115489786070452,0.021315747144925207,0.02132861508766286,0.021721087341161332,0.021869068682644363,0.021888370596750844,0.022801994531124338,0.02334244812610584,0.02428824191732347,0.024294675888692295,0.024442657230175326,0.024835129483673796,0.025632941933408395,0.026475792182724788,0.02731220846067235,0.027325076403410004,0.028573266848962522,0.030883062570371562,0.030998874055010454,0.03180312047611388,0.03262666881132379,0.03276821618143799,0.03423516165353064,0.03424159562489947,0.03511018175969117,0.03526459707254303,0.03561846549782854,0.03563133344056619,0.0356570693260415,0.035663503297410325,0.03650635354672672,0.036512787518095544,0.03783818562007399,0.03785105356281165,0.037870355476918124,0.03832073347273605,0.0383336014154737,0.03877111146855396,0.03877754543992279,0.039511018175969116,0.03951745214733794,0.042174682322663665,0.042567154576162135,0.04294032491555413,0.04335853305452791,0.04336496702589673,0.04337783496863439,0.04339713688274087,0.04548174360624095,0.04709023644844781,0.04727038764677497,0.0472768216181438,0.047289689560881455,0.04882740871803121,0.0492263149428985,0.051182242239022034,0.05160688434936465,0.052996622165031364,0.05513913463085089,0.05859417725591121,0.058607045198648865,0.05899308348077851,0.058999517452147335,0.059848801672832554,0.05995817918610262,0.06074955766446839,0.06209425768055332,0.0634518256393759,0.06578735724626025,0.06579379121762909,0.06621199935660287,0.066244169213447,0.06625060318481583,0.06641145246903651,0.06641788644040535,0.06686826443622326,0.06771754865690847,0.06773041659964613,0.07041338266044717,0.07041981663181598,0.07046485443139779,0.07048415634550426,0.07079298697120798,0.07173878076242561,0.07174521473379443,0.0725365932121602,0.07408074634067878,0.07512948367379765,0.07513591764516647,0.07606884349364645,0.07610101335049059,0.07610744732185942,0.07824995978767894,0.0806562650796204,0.08108734116133183,0.08466462924239987,0.08478044072703876,0.08634389576966382,0.08712884027666076,0.08734116133183208,0.08829338909441853,0.08829982306578736,0.09033939198970564,0.09035225993244331,0.09104712884027666,0.09110503458259611,0.09111790252533376,0.09113077046807141,0.09317033939198971,0.09737815666720283,0.09943702750522761,0.09944346147659643,0.10288563615891909,0.10943541901238539,0.11026540131896413,0.11027183529033296,0.11071577931478205,0.1107286472575197,0.1107994209425768,0.11080585491394564,0.11128196879523886,0.11128840276660769,0.11393919897056458,0.11664790091684092,0.11867460189802155,0.12079137847836577,0.12320411774167606,0.12321698568441371,0.12396332636319768,0.12404696799099243,0.12689078333601417,0.1276499919575358,0.1276564259289046,0.12811323789609136,0.12828052115168087,0.1282869551230497,0.12963808911050345,0.1300691651922149,0.13007559916358372,0.13102139295480136,0.13188354511822423,0.13413543509731382,0.1347209264918771,0.13472736046324593,0.1347402284059836,0.13474666237735242,0.1349010776902043,0.1349075116615731,0.1363615891909281,0.1368055332153772,0.13695351455686022,0.1369921183850732,0.1448544313977803,0.1463599806980859,0.153289367862313,0.15440244490912017,0.15657712723178382,0.1565964291458903,0.15799903490429468,0.16235483352099084,0.16236770146372848,0.16427859096027023,0.1664082354833521,0.16641466945472091,0.16730899147498793,0.1673218594177256,0.17033939198970566,0.17430915232427216,0.17432202026700983,0.17432845423837864,0.17571175808267653,0.17588547530963486,0.17590477722374134,0.17629724947723982,0.1763165513913463,0.17702428824191732,0.18060157632298537,0.1834260897539006,0.18575518738941613,0.18841241756474184,0.1884252855074795,0.1948849927617822,0.19491072864725753,0.19491716261862635,0.19884188515361106,0.20245777706289206,0.20393759047772236,0.20629885797008204,0.2070645005629725,0.20725751970403733,0.20804889818240307,0.20885957857487533,0.2144828695512305,0.21449573749396816,0.21452147337944347,0.2149075116615731,0.21493324754704843,0.21494611548978607,0.21497185137526137,0.2191281968795239,0.21913463085089271,0.22480295962682967,0.22609618787196398,0.22610905581470161,0.23473057744893036,0.234743445391668,0.23664790091684093,0.23665433488820975,0.2388225832395046,0.24106160527585652,0.24107447321859418,0.2437059675084446,0.24372526942255107,0.24414991153289367,0.24416277947563134,0.244175647418369,0.2495351455686022,0.2503586939038121,0.2568312691008525,0.2568377030722213,0.25950136721891587,0.2619977481100209,0.26201061605275855,0.26207495576644685,0.2620878237091845,0.26256393759047775,0.262962843815345,0.26864404053401963,0.26937107929869714,0.2693968151841724,0.2766672028309474,0.2768280521151681,0.2768409200579057,0.2775550908798456,0.27756152485121444,0.28330062731220845,0.2922309795721409,0.29223741354350974,0.3023451825639376,0.3023516165353064,0.30394724143477564,0.3063149428985041,0.30834807785105356,0.3105935338587743,0.31368184011581146,0.3189512626668811,0.31989062248672995,0.32376387325076406,0.3260286311725913,0.32603506514396013,0.33111790252533374,0.3311243364967026,0.33522921023001445,0.3451825639375905,0.3451889979089593,0.34841241756474184,0.35226636641466946,0.35229210230014474,0.3590606401801512,0.35906707415152,0.37416760495415796,0.380949010776902,0.38681679266527264,0.3868360945793791,0.3889914749879363,0.38899790895930514,0.39676371240147984,0.39677014637284863,0.40308187228566833,0.4030883062570372,0.4064211034260898,0.40642753739745857,0.40745053884510213,0.407456972816471,0.4074698407592086,0.4197908959305131,0.42744732185941775,0.4274601898021554,0.42746662377352423,0.4274794917162619,0.4355669937268779,0.4355798616696156,0.45069969438636,0.4507125623290976,0.4544378317516487,0.45445069969438634,0.46334888209747466,0.464120958661734,0.46414669454720925,0.4684960591925366,0.46853466302074953,0.47200900755991637,0.4720411774167605,0.4784043751005308,0.47841080907189965,0.5085797008203313,0.5133794434614766,0.5179732990188194,0.5179797329901882,0.5223419655782532,0.5223548335209909,0.5237703072221329,0.5267492359659,0.5267556699372687,0.5382853466302076,0.5382982145729451,0.5517066109055815,0.5666655943381051,0.5693292584847998,0.5713302235805051,0.5755123049702429,0.5798423677014637,0.5840244490912015,0.5905999678301431,0.6246678462280842,0.6246742801994531,0.6343509731381696,0.6343638410809072,0.6375936947080586,0.6416599646131574,0.6416663985845263,0.6460994048576484,0.6477465015280682,0.647752935499437,0.6608396332636319,0.6629885797008204,0.663001447643558,0.6658903007881615,0.6760817114363841,0.6799163583722052,0.6812739263310278,0.6812867942737655,0.6854881775776098,0.6854946115489786,0.6895094096831269,0.6917355637767412,0.6917484317194789,0.6926491877111147,0.6926556216824835,0.6998681035869391,0.6998938394724143,0.7039215055493003,0.7039279395206691,0.7070484156345505,0.7461926974424964,0.7462248672993406,0.7470548496059193,0.7470612835772881,0.7504777223741355,0.7504970242882419,0.7559208621521635,0.7559272961235323,0.7931092166639858,0.79314138652083,0.8043622325880649,0.8043686665594338,0.8083319929226315,0.8083834646935821,0.8083963326363197,0.8084027666076886,0.8125076403410005,0.8295319285829178,0.8295512304970243,0.8462152163422872,0.8462473861991314,0.8513559594659804,0.851368827408718,0.8538716422711919,0.8538909441852984,0.853903812128036,0.8539166800707737,0.8583175164870517,0.8583496863438957,0.8583689882580022,0.8583754222293711,0.8723114042142512,0.8723371400997265,0.8723628759852019,0.8723886118706772,0.8724079137847837,0.8724143477561525,0.8724465176129966,0.8725108573266849,1.0],\"y\":[0.0,0.9456092668090339,0.9456222092797515,0.9456286805151103,0.945641622985828,0.9456480942211868,0.9456610366919045,0.9457257490454928,0.9457386915162105,0.9462305054034815,0.946748204232188,0.9471882482365883,0.947738303242089,0.9482754157768718,0.94872840225199,0.9490196078431372,0.9494531806121789,0.9496990875558144,0.9497055587911732,0.9500097068530382,0.9503720960331328,0.9506115317414094,0.9509027373325568,0.9512198278651395,0.9514074936905456,0.9514269073966221,0.9517116417524105,0.9519899048728402,0.9521710994628875,0.9524105351711641,0.9526758558208762,0.9527017407623115,0.9529088202937941,0.9530770724131237,0.953290623179965,0.9533035656506827,0.9535171164175241,0.953750080890442,0.9537759658318773,0.9540089303047952,0.9541901248948425,0.9543648482495308,0.9545783990163722,0.9550184430207727,0.9550313854914904,0.955231993787614,0.9552384650229729,0.9553549472594318,0.9553937746715848,0.9554002459069436,0.9554131883776613,0.9554196596130201,0.9554326020837378,0.9554455445544554,0.9554584870251731,0.9554649582605319,0.9554908432019673,0.9558920597942148,0.9560020707953149,0.9560926680903384,0.9560991393256972,0.9561120817964149,0.9563450462693328,0.9563579887400505,0.9565585970361742,0.9567462628615803,0.9568627450980393,0.9569986410405746,0.9573092603377985,0.9574839836924869,0.9578463728725813,0.9580146249919109,0.9581505209344464,0.958279945641623,0.9582864168769818,0.9583705429366466,0.9585258525852586,0.9585323238206174,0.9586164498802822,0.9587135184106645,0.9588817705299941,0.9590435514139649,0.9590564938846826,0.9591470911797062,0.959153562415065,0.9592182747686533,0.9592247460040122,0.959308872063677,0.9593865268879829,0.9594706529476477,0.9594835954183654,0.9595094803598007,0.9595159515951596,0.959535365301236,0.959574192713389,0.9595871351841067,0.9596259625962597,0.9597165598912832,0.9597942147155892,0.9598459845984598,0.9598589270691775,0.9599301106581246,0.9600207079531483,0.9600271791885071,0.9600660066006601,0.9601307189542484,0.9602019025431955,0.9602407299553485,0.9602924998382191,0.9603442697210898,0.9603572121918074,0.9603701546625251,0.9603766258978839,0.9604672231929076,0.9604866368989841,0.9605319355464959,0.9605513492525724,0.9606419465475959,0.9606937164304665,0.9606937164304665,0.9607713712547725,0.960829612373002,0.9608943247265903,0.9609525658448198,0.9609719795508963,0.9609978644923316,0.9610431631398434,0.9610690480812787,0.9611078754934317,0.9611208179641494,0.9611467029055847,0.9612243577298907,0.9612308289652495,0.9612437714359672,0.9612955413188378,0.9613343687309908,0.9613473112017084,0.9613602536724261,0.9613667249077849,0.9614055523199379,0.9614120235552968,0.9614249660260143,0.9614896783796026,0.9615026208503203,0.9615220345563968,0.9615349770271144,0.9615738044392674,0.9615867469099851,0.9615996893807027,0.9615996893807027,0.9616255743221381,0.9616385167928557,0.9616773442050087,0.9616902866757264,0.9617097003818029,0.9617226428525205,0.9617355853232382,0.961742056558597,0.9617549990293147,0.96178088397075,0.9617938264414677,0.9624150650359153,0.9628680515110335,0.9632045557496927,0.9635410599883518,0.9639875752281111,0.9643111369960525,0.9645764576457646,0.9648547207661943,0.9652041674755711,0.9654630168899243,0.9657477512457128,0.9660195431307836,0.966614896783796,0.966880217433508,0.9671131819064259,0.9672814340257555,0.9674820423218793,0.9677085355594383,0.9678509027373325,0.967947971267715,0.9681032809163269,0.9682262343881447,0.96875040445221,0.9688668866886688,0.9689445415129748,0.9690610237494338,0.9690610237494338,0.9691904484566104,0.969319873163787,0.9696563774024461,0.9696563774024461,0.9697858021096227,0.9697858021096227,0.9703358571151233,0.9704717530576588,0.9705170517051706,0.970879440885265,0.970879440885265,0.9709506244742121,0.9710218080631593,0.9710218080631593,0.9711059341228241,0.971300071183589,0.971300071183589,0.9714036109493303,0.9715848055393774,0.9716365754222481,0.9718760111305248,0.9720636769559309,0.9721413317802369,0.9723419400763605,0.9724066524299488,0.9725231346664078,0.9725813757846373,0.972781984080761,0.9729308224940141,0.9729890636122436,0.9730084773183201,0.973202614379085,0.9733255678509027,0.9733255678509027,0.9736750145602796,0.9739726913867858,0.9741603572121919,0.974341551802239,0.974458034038698,0.9746262861580276,0.9746262861580276,0.9747039409823335,0.9747557108652042,0.9750857438685046,0.9752863521646282,0.97533165081214,0.9755452015789814,0.9755452015789814,0.9756875687568757,0.9756875687568757,0.9760240729955348,0.9760758428784055,0.9761923251148644,0.9762052675855821,0.9762246812916586,0.9764835307060118,0.9765223581181648,0.9765223581181648,0.9766194266485472,0.9766711965314179,0.9766711965314179,0.9769494596518475,0.9770659418883065,0.9772859638905067,0.9772859638905067,0.9773183200673008,0.977389503656248,0.9776742380120365,0.9779007312495955,0.97826312042969,0.97826312042969,0.9786255096097846,0.9793761729114088,0.979408529088203,0.9795897236782501,0.9798032744450915,0.9798421018572445,0.9801786060959037,0.9801786060959037,0.9804245130395393,0.980469811687051,0.9805539377467158,0.9805539377467158,0.9805539377467158,0.9805539377467158,0.9806510062770983,0.9806510062770983,0.9809875105157575,0.9809875105157575,0.9809875105157575,0.9810392803986281,0.9810392803986281,0.9811039927522164,0.9811039927522164,0.9812398886947519,0.9812398886947519,0.9815505079919756,0.9816346340516404,0.9816864039345111,0.9817317025820229,0.9817317025820229,0.9817317025820229,0.9817317025820229,0.9820746780560409,0.982339998705753,0.9823594124118294,0.9823594124118294,0.9823594124118294,0.9826312042969003,0.9827023878858474,0.982948294829483,0.982987122241636,0.9831618455963244,0.9833883388338834,0.9839060376625898,0.9839060376625898,0.9839448650747428,0.9839448650747428,0.9841195884294311,0.9841390021355076,0.9841972432537371,0.9843654953730667,0.9845984598459846,0.9849090791432085,0.9849090791432085,0.984960849026079,0.984960849026079,0.984960849026079,0.9849737914967968,0.9849737914967968,0.9850255613796673,0.9851032162039733,0.9851032162039733,0.9853620656183265,0.9853620656183265,0.9853620656183265,0.9853620656183265,0.9853944217951207,0.9854785478547855,0.9854785478547855,0.9856015013266033,0.9857309260337799,0.9858732932116742,0.9858732932116742,0.9859703617420565,0.9859703617420565,0.9859703617420565,0.9860933152138743,0.9862809810392804,0.9863392221575099,0.9866951401022456,0.9867016113376044,0.9868439785154987,0.9869539895165987,0.9869928169287517,0.9870769429884165,0.9870769429884165,0.9872904937552579,0.9872904937552579,0.9873552061088462,0.9873552061088462,0.9873552061088462,0.9873552061088462,0.9874522746392286,0.9877758364071701,0.9879376172911408,0.9879376172911408,0.9881576392933411,0.9885847408270239,0.9886429819452534,0.9886429819452534,0.9886753381220476,0.9886753381220476,0.9886753381220476,0.9886753381220476,0.9887271080049181,0.9887271080049181,0.988998899889989,0.9891995081861127,0.9893159904225717,0.9894777713065425,0.9896783796026661,0.9896783796026661,0.9897301494855368,0.9897301494855368,0.9899307577816605,0.98998899889989,0.98998899889989,0.9900148838413253,0.9900342975474018,0.9900342975474018,0.9900795961949136,0.9901119523717078,0.9901119523717078,0.9901701934899372,0.9902025496667314,0.990331974373908,0.9903384456092668,0.9903384456092668,0.9903384456092668,0.9903384456092668,0.9903513880799845,0.9903513880799845,0.9904355141396493,0.990441985375008,0.990441985375008,0.990441985375008,0.9910049828512263,0.9910373390280205,0.9914450268556267,0.9915162104445738,0.9916391639163916,0.9916391639163916,0.9916909337992623,0.9918462434478742,0.9918462434478742,0.9919562544489743,0.9921050928622274,0.9921050928622274,0.9921439202743804,0.9921439202743804,0.9922798162169159,0.9924286546301689,0.9924286546301689,0.9924286546301689,0.9924933669837572,0.9924933669837572,0.9924933669837572,0.9925257231605513,0.9925257231605513,0.9925645505727043,0.9926486766323691,0.9927651588688281,0.9928686986345694,0.9929851808710283,0.9929851808710283,0.9932375590500226,0.9932375590500226,0.9932375590500226,0.9933022714036109,0.9934058111693522,0.9934769947582993,0.993567592053323,0.993606419465476,0.993606419465476,0.9936517181129878,0.9936905455251408,0.9938911538212645,0.9938911538212645,0.9938911538212645,0.9938911538212645,0.9938911538212645,0.9938911538212645,0.9938911538212645,0.9940141072930823,0.9940141072930823,0.9941435320002588,0.9941953018831294,0.9941953018831294,0.994480036238918,0.994480036238918,0.9945382773571475,0.9945382773571475,0.9945900472400181,0.9946677020643241,0.9946677020643241,0.9947906555361419,0.9947906555361419,0.9948035980068595,0.9948035980068595,0.9948035980068595,0.9949136090079597,0.9949136090079597,0.9950365624797773,0.9950365624797773,0.9950818611272892,0.9951401022455186,0.9951401022455186,0.9951401022455186,0.9951401022455186,0.9951465734808775,0.9951595159515951,0.9952954118941306,0.9952954118941306,0.9952954118941306,0.9954442503073837,0.9954507215427425,0.9954507215427425,0.9954507215427425,0.9954507215427425,0.995547790073125,0.9957483983692487,0.9957483983692487,0.995890765547143,0.995890765547143,0.9959360641946547,0.9960137190189607,0.9960460751957548,0.9961107875493431,0.9961302012554196,0.9962337410211609,0.9962466834918786,0.9963308095515434,0.9963890506697729,0.9963890506697729,0.9964667054940788,0.9964667054940788,0.9964925904355142,0.9965831877305378,0.9965831877305378,0.9966608425548438,0.9967384973791497,0.9967384973791497,0.9968485083802497,0.9968485083802497,0.9970038180288617,0.99706853038245,0.9971332427360383,0.9971332427360383,0.997146185206756,0.997146185206756,0.9972885523846502,0.9972885523846502,0.9973597359735974,0.9973597359735974,0.9973920921503915,0.9973920921503915,0.9974050346211092,0.9974050346211092,0.9974050346211092,0.9975603442697211,0.9977027114476154,0.9977027114476154,0.9977027114476154,0.9977027114476154,0.9977738950365624,0.9977738950365624,0.9978774348023037,0.9978774348023037,0.9979097909790979,0.9979097909790979,0.9980068595094803,0.9980262732155568,0.9980262732155568,0.9980651006277098,0.9980651006277098,0.9980651006277098,0.9980651006277098,0.9981103992752216,0.9981103992752216,0.9984210185724455,0.9984339610431632,0.9984727884553162,0.9984727884553162,0.9985310295735456,0.9985310295735456,0.9985504432796221,0.9986022131624928,0.9986022131624928,0.9986992816928751,0.9986992816928751,0.9987898789878988,0.9989193036950754,0.9989257749304342,0.998932246165793,0.9989581311072284,0.999009900990099,0.9990422571668932,0.999087555814405,0.9993464052287582,0.9993464052287582,0.99939170387627,0.99939170387627,0.99939170387627,0.9994434737591407,0.9994434737591407,0.999469358700576,0.9994758299359348,0.9994758299359348,0.9995599559955995,0.9995858409370348,0.9995858409370348,0.9995923121723937,0.9996634957613408,0.9996699669966996,0.9996829094674173,0.9996829094674173,0.9997023231734938,0.9997023231734938,0.9997152656442114,0.9997346793502879,0.9997346793502879,0.9997346793502879,0.9997346793502879,0.9997476218210056,0.9997476218210056,0.9997670355270821,0.9997670355270821,0.9997735067624409,0.9998252766453116,0.9998252766453116,0.9998317478806704,0.9998317478806704,0.9998317478806704,0.9998317478806704,0.9998382191160292,0.9998382191160292,0.9999158739403352,0.9999158739403352,0.9999482301171294,0.9999482301171294,0.9999482301171294,0.9999482301171294,0.9999482301171294,0.9999482301171294,0.9999482301171294,0.999961172587847,0.999961172587847,0.9999935287646412,0.9999935287646412,0.9999935287646412,0.9999935287646412,1.0,1.0,1.0,1.0,1.0,1.0,1.0,1.0,1.0,1.0,1.0,1.0,1.0,1.0,1.0,1.0,1.0],\"type\":\"scatter\"}],                        {\"template\":{\"data\":{\"barpolar\":[{\"marker\":{\"line\":{\"color\":\"rgb(17,17,17)\",\"width\":0.5},\"pattern\":{\"fillmode\":\"overlay\",\"size\":10,\"solidity\":0.2}},\"type\":\"barpolar\"}],\"bar\":[{\"error_x\":{\"color\":\"#f2f5fa\"},\"error_y\":{\"color\":\"#f2f5fa\"},\"marker\":{\"line\":{\"color\":\"rgb(17,17,17)\",\"width\":0.5},\"pattern\":{\"fillmode\":\"overlay\",\"size\":10,\"solidity\":0.2}},\"type\":\"bar\"}],\"carpet\":[{\"aaxis\":{\"endlinecolor\":\"#A2B1C6\",\"gridcolor\":\"#506784\",\"linecolor\":\"#506784\",\"minorgridcolor\":\"#506784\",\"startlinecolor\":\"#A2B1C6\"},\"baxis\":{\"endlinecolor\":\"#A2B1C6\",\"gridcolor\":\"#506784\",\"linecolor\":\"#506784\",\"minorgridcolor\":\"#506784\",\"startlinecolor\":\"#A2B1C6\"},\"type\":\"carpet\"}],\"choropleth\":[{\"colorbar\":{\"outlinewidth\":0,\"ticks\":\"\"},\"type\":\"choropleth\"}],\"contourcarpet\":[{\"colorbar\":{\"outlinewidth\":0,\"ticks\":\"\"},\"type\":\"contourcarpet\"}],\"contour\":[{\"colorbar\":{\"outlinewidth\":0,\"ticks\":\"\"},\"colorscale\":[[0.0,\"#0d0887\"],[0.1111111111111111,\"#46039f\"],[0.2222222222222222,\"#7201a8\"],[0.3333333333333333,\"#9c179e\"],[0.4444444444444444,\"#bd3786\"],[0.5555555555555556,\"#d8576b\"],[0.6666666666666666,\"#ed7953\"],[0.7777777777777778,\"#fb9f3a\"],[0.8888888888888888,\"#fdca26\"],[1.0,\"#f0f921\"]],\"type\":\"contour\"}],\"heatmapgl\":[{\"colorbar\":{\"outlinewidth\":0,\"ticks\":\"\"},\"colorscale\":[[0.0,\"#0d0887\"],[0.1111111111111111,\"#46039f\"],[0.2222222222222222,\"#7201a8\"],[0.3333333333333333,\"#9c179e\"],[0.4444444444444444,\"#bd3786\"],[0.5555555555555556,\"#d8576b\"],[0.6666666666666666,\"#ed7953\"],[0.7777777777777778,\"#fb9f3a\"],[0.8888888888888888,\"#fdca26\"],[1.0,\"#f0f921\"]],\"type\":\"heatmapgl\"}],\"heatmap\":[{\"colorbar\":{\"outlinewidth\":0,\"ticks\":\"\"},\"colorscale\":[[0.0,\"#0d0887\"],[0.1111111111111111,\"#46039f\"],[0.2222222222222222,\"#7201a8\"],[0.3333333333333333,\"#9c179e\"],[0.4444444444444444,\"#bd3786\"],[0.5555555555555556,\"#d8576b\"],[0.6666666666666666,\"#ed7953\"],[0.7777777777777778,\"#fb9f3a\"],[0.8888888888888888,\"#fdca26\"],[1.0,\"#f0f921\"]],\"type\":\"heatmap\"}],\"histogram2dcontour\":[{\"colorbar\":{\"outlinewidth\":0,\"ticks\":\"\"},\"colorscale\":[[0.0,\"#0d0887\"],[0.1111111111111111,\"#46039f\"],[0.2222222222222222,\"#7201a8\"],[0.3333333333333333,\"#9c179e\"],[0.4444444444444444,\"#bd3786\"],[0.5555555555555556,\"#d8576b\"],[0.6666666666666666,\"#ed7953\"],[0.7777777777777778,\"#fb9f3a\"],[0.8888888888888888,\"#fdca26\"],[1.0,\"#f0f921\"]],\"type\":\"histogram2dcontour\"}],\"histogram2d\":[{\"colorbar\":{\"outlinewidth\":0,\"ticks\":\"\"},\"colorscale\":[[0.0,\"#0d0887\"],[0.1111111111111111,\"#46039f\"],[0.2222222222222222,\"#7201a8\"],[0.3333333333333333,\"#9c179e\"],[0.4444444444444444,\"#bd3786\"],[0.5555555555555556,\"#d8576b\"],[0.6666666666666666,\"#ed7953\"],[0.7777777777777778,\"#fb9f3a\"],[0.8888888888888888,\"#fdca26\"],[1.0,\"#f0f921\"]],\"type\":\"histogram2d\"}],\"histogram\":[{\"marker\":{\"pattern\":{\"fillmode\":\"overlay\",\"size\":10,\"solidity\":0.2}},\"type\":\"histogram\"}],\"mesh3d\":[{\"colorbar\":{\"outlinewidth\":0,\"ticks\":\"\"},\"type\":\"mesh3d\"}],\"parcoords\":[{\"line\":{\"colorbar\":{\"outlinewidth\":0,\"ticks\":\"\"}},\"type\":\"parcoords\"}],\"pie\":[{\"automargin\":true,\"type\":\"pie\"}],\"scatter3d\":[{\"line\":{\"colorbar\":{\"outlinewidth\":0,\"ticks\":\"\"}},\"marker\":{\"colorbar\":{\"outlinewidth\":0,\"ticks\":\"\"}},\"type\":\"scatter3d\"}],\"scattercarpet\":[{\"marker\":{\"colorbar\":{\"outlinewidth\":0,\"ticks\":\"\"}},\"type\":\"scattercarpet\"}],\"scattergeo\":[{\"marker\":{\"colorbar\":{\"outlinewidth\":0,\"ticks\":\"\"}},\"type\":\"scattergeo\"}],\"scattergl\":[{\"marker\":{\"line\":{\"color\":\"#283442\"}},\"type\":\"scattergl\"}],\"scattermapbox\":[{\"marker\":{\"colorbar\":{\"outlinewidth\":0,\"ticks\":\"\"}},\"type\":\"scattermapbox\"}],\"scatterpolargl\":[{\"marker\":{\"colorbar\":{\"outlinewidth\":0,\"ticks\":\"\"}},\"type\":\"scatterpolargl\"}],\"scatterpolar\":[{\"marker\":{\"colorbar\":{\"outlinewidth\":0,\"ticks\":\"\"}},\"type\":\"scatterpolar\"}],\"scatter\":[{\"marker\":{\"line\":{\"color\":\"#283442\"}},\"type\":\"scatter\"}],\"scatterternary\":[{\"marker\":{\"colorbar\":{\"outlinewidth\":0,\"ticks\":\"\"}},\"type\":\"scatterternary\"}],\"surface\":[{\"colorbar\":{\"outlinewidth\":0,\"ticks\":\"\"},\"colorscale\":[[0.0,\"#0d0887\"],[0.1111111111111111,\"#46039f\"],[0.2222222222222222,\"#7201a8\"],[0.3333333333333333,\"#9c179e\"],[0.4444444444444444,\"#bd3786\"],[0.5555555555555556,\"#d8576b\"],[0.6666666666666666,\"#ed7953\"],[0.7777777777777778,\"#fb9f3a\"],[0.8888888888888888,\"#fdca26\"],[1.0,\"#f0f921\"]],\"type\":\"surface\"}],\"table\":[{\"cells\":{\"fill\":{\"color\":\"#506784\"},\"line\":{\"color\":\"rgb(17,17,17)\"}},\"header\":{\"fill\":{\"color\":\"#2a3f5f\"},\"line\":{\"color\":\"rgb(17,17,17)\"}},\"type\":\"table\"}]},\"layout\":{\"annotationdefaults\":{\"arrowcolor\":\"#f2f5fa\",\"arrowhead\":0,\"arrowwidth\":1},\"autotypenumbers\":\"strict\",\"coloraxis\":{\"colorbar\":{\"outlinewidth\":0,\"ticks\":\"\"}},\"colorscale\":{\"diverging\":[[0,\"#8e0152\"],[0.1,\"#c51b7d\"],[0.2,\"#de77ae\"],[0.3,\"#f1b6da\"],[0.4,\"#fde0ef\"],[0.5,\"#f7f7f7\"],[0.6,\"#e6f5d0\"],[0.7,\"#b8e186\"],[0.8,\"#7fbc41\"],[0.9,\"#4d9221\"],[1,\"#276419\"]],\"sequential\":[[0.0,\"#0d0887\"],[0.1111111111111111,\"#46039f\"],[0.2222222222222222,\"#7201a8\"],[0.3333333333333333,\"#9c179e\"],[0.4444444444444444,\"#bd3786\"],[0.5555555555555556,\"#d8576b\"],[0.6666666666666666,\"#ed7953\"],[0.7777777777777778,\"#fb9f3a\"],[0.8888888888888888,\"#fdca26\"],[1.0,\"#f0f921\"]],\"sequentialminus\":[[0.0,\"#0d0887\"],[0.1111111111111111,\"#46039f\"],[0.2222222222222222,\"#7201a8\"],[0.3333333333333333,\"#9c179e\"],[0.4444444444444444,\"#bd3786\"],[0.5555555555555556,\"#d8576b\"],[0.6666666666666666,\"#ed7953\"],[0.7777777777777778,\"#fb9f3a\"],[0.8888888888888888,\"#fdca26\"],[1.0,\"#f0f921\"]]},\"colorway\":[\"#636efa\",\"#EF553B\",\"#00cc96\",\"#ab63fa\",\"#FFA15A\",\"#19d3f3\",\"#FF6692\",\"#B6E880\",\"#FF97FF\",\"#FECB52\"],\"font\":{\"color\":\"#f2f5fa\"},\"geo\":{\"bgcolor\":\"rgb(17,17,17)\",\"lakecolor\":\"rgb(17,17,17)\",\"landcolor\":\"rgb(17,17,17)\",\"showlakes\":true,\"showland\":true,\"subunitcolor\":\"#506784\"},\"hoverlabel\":{\"align\":\"left\"},\"hovermode\":\"closest\",\"mapbox\":{\"style\":\"dark\"},\"paper_bgcolor\":\"rgb(17,17,17)\",\"plot_bgcolor\":\"rgb(17,17,17)\",\"polar\":{\"angularaxis\":{\"gridcolor\":\"#506784\",\"linecolor\":\"#506784\",\"ticks\":\"\"},\"bgcolor\":\"rgb(17,17,17)\",\"radialaxis\":{\"gridcolor\":\"#506784\",\"linecolor\":\"#506784\",\"ticks\":\"\"}},\"scene\":{\"xaxis\":{\"backgroundcolor\":\"rgb(17,17,17)\",\"gridcolor\":\"#506784\",\"gridwidth\":2,\"linecolor\":\"#506784\",\"showbackground\":true,\"ticks\":\"\",\"zerolinecolor\":\"#C8D4E3\"},\"yaxis\":{\"backgroundcolor\":\"rgb(17,17,17)\",\"gridcolor\":\"#506784\",\"gridwidth\":2,\"linecolor\":\"#506784\",\"showbackground\":true,\"ticks\":\"\",\"zerolinecolor\":\"#C8D4E3\"},\"zaxis\":{\"backgroundcolor\":\"rgb(17,17,17)\",\"gridcolor\":\"#506784\",\"gridwidth\":2,\"linecolor\":\"#506784\",\"showbackground\":true,\"ticks\":\"\",\"zerolinecolor\":\"#C8D4E3\"}},\"shapedefaults\":{\"line\":{\"color\":\"#f2f5fa\"}},\"sliderdefaults\":{\"bgcolor\":\"#C8D4E3\",\"bordercolor\":\"rgb(17,17,17)\",\"borderwidth\":1,\"tickwidth\":0},\"ternary\":{\"aaxis\":{\"gridcolor\":\"#506784\",\"linecolor\":\"#506784\",\"ticks\":\"\"},\"baxis\":{\"gridcolor\":\"#506784\",\"linecolor\":\"#506784\",\"ticks\":\"\"},\"bgcolor\":\"rgb(17,17,17)\",\"caxis\":{\"gridcolor\":\"#506784\",\"linecolor\":\"#506784\",\"ticks\":\"\"}},\"title\":{\"x\":0.05},\"updatemenudefaults\":{\"bgcolor\":\"#506784\",\"borderwidth\":0},\"xaxis\":{\"automargin\":true,\"gridcolor\":\"#283442\",\"linecolor\":\"#506784\",\"ticks\":\"\",\"title\":{\"standoff\":15},\"zerolinecolor\":\"#283442\",\"zerolinewidth\":2},\"yaxis\":{\"automargin\":true,\"gridcolor\":\"#283442\",\"linecolor\":\"#506784\",\"ticks\":\"\",\"title\":{\"standoff\":15},\"zerolinecolor\":\"#283442\",\"zerolinewidth\":2}}},\"title\":{\"text\":\"ROC Curve\",\"font\":{\"size\":20},\"x\":0.5},\"xaxis\":{\"title\":{\"text\":\"False Positive Rate\"}},\"yaxis\":{\"title\":{\"text\":\"True Positive Rate\"}}},                        {\"responsive\": true}                    ).then(function(){\n",
              "                            \n",
              "var gd = document.getElementById('15aeb34f-22b1-4712-a3bb-02e626655fd8');\n",
              "var x = new MutationObserver(function (mutations, observer) {{\n",
              "        var display = window.getComputedStyle(gd).display;\n",
              "        if (!display || display === 'none') {{\n",
              "            console.log([gd, 'removed!']);\n",
              "            Plotly.purge(gd);\n",
              "            observer.disconnect();\n",
              "        }}\n",
              "}});\n",
              "\n",
              "// Listen for the removal of the full notebook cells\n",
              "var notebookContainer = gd.closest('#notebook-container');\n",
              "if (notebookContainer) {{\n",
              "    x.observe(notebookContainer, {childList: true});\n",
              "}}\n",
              "\n",
              "// Listen for the clearing of the current output cell\n",
              "var outputEl = gd.closest('.output');\n",
              "if (outputEl) {{\n",
              "    x.observe(outputEl, {childList: true});\n",
              "}}\n",
              "\n",
              "                        })                };                            </script>        </div>\n",
              "</body>\n",
              "</html>"
            ]
          },
          "metadata": {}
        }
      ]
    },
    {
      "cell_type": "code",
      "source": [
        "# Count the number of 'default' and 'no default' instances\n",
        "default_counts = merged_df['client_status'].value_counts()\n",
        "print(\"Number of instances in each class:\")\n",
        "print(\"No Default:\", default_counts[0])  # Assuming 0 represents 'no default'\n",
        "print(\"Default:\", default_counts[1])  # Assuming 1 represents 'default'\n"
      ],
      "metadata": {
        "id": "7VgDG-RRareg",
        "colab": {
          "base_uri": "https://localhost:8080/"
        },
        "outputId": "cb01a13d-299e-436a-e30b-629cf909206e"
      },
      "execution_count": null,
      "outputs": [
        {
          "output_type": "stream",
          "name": "stdout",
          "text": [
            "Number of instances in each class:\n",
            "No Default: 2828\n",
            "Default: 774887\n"
          ]
        }
      ]
    },
    {
      "cell_type": "code",
      "source": [
        "from sklearn.metrics import confusion_matrix\n",
        "import plotly.figure_factory as ff\n",
        "\n",
        "# Generate the confusion matrix\n",
        "cm = confusion_matrix(y_test, y_pred_chosen)\n",
        "\n",
        "# Define labels for the matrix\n",
        "labels = ['True Negative', 'False Positive', 'False Negative', 'True Positive']\n",
        "\n",
        "# Create an annotated heatmap\n",
        "fig = ff.create_annotated_heatmap(cm,\n",
        "                                  x=['Predicted 0', 'Predicted 1'],  # Predicted labels\n",
        "                                  y=['Actual 0', 'Actual 1'],       # Actual labels\n",
        "                                  colorscale='Viridis')  # Color scale\n",
        "\n",
        "# Update the figure layout\n",
        "fig.update_layout(\n",
        "    title_text='Confusion Matrix',\n",
        "    xaxis=dict(title='Predicted label'),\n",
        "    yaxis=dict(title='True label')\n",
        ")\n",
        "\n",
        "# Display the confusion matrix\n",
        "fig.show()\n"
      ],
      "metadata": {
        "colab": {
          "base_uri": "https://localhost:8080/",
          "height": 542
        },
        "id": "LS84ZUSSnxMH",
        "outputId": "dda6b1d5-1746-4090-c766-6040d5a1d344"
      },
      "execution_count": null,
      "outputs": [
        {
          "output_type": "display_data",
          "data": {
            "text/html": [
              "<html>\n",
              "<head><meta charset=\"utf-8\" /></head>\n",
              "<body>\n",
              "    <div>            <script src=\"https://cdnjs.cloudflare.com/ajax/libs/mathjax/2.7.5/MathJax.js?config=TeX-AMS-MML_SVG\"></script><script type=\"text/javascript\">if (window.MathJax && window.MathJax.Hub && window.MathJax.Hub.Config) {window.MathJax.Hub.Config({SVG: {font: \"STIX-Web\"}});}</script>                <script type=\"text/javascript\">window.PlotlyConfig = {MathJaxConfig: 'local'};</script>\n",
              "        <script charset=\"utf-8\" src=\"https://cdn.plot.ly/plotly-2.35.2.min.js\"></script>                <div id=\"9c680a85-bd74-4bb3-bb6e-268752f2ce1e\" class=\"plotly-graph-div\" style=\"height:525px; width:100%;\"></div>            <script type=\"text/javascript\">                                    window.PLOTLYENV=window.PLOTLYENV || {};                                    if (document.getElementById(\"9c680a85-bd74-4bb3-bb6e-268752f2ce1e\")) {                    Plotly.newPlot(                        \"9c680a85-bd74-4bb3-bb6e-268752f2ce1e\",                        [{\"colorscale\":[[0.0,\"#440154\"],[0.1111111111111111,\"#482878\"],[0.2222222222222222,\"#3e4989\"],[0.3333333333333333,\"#31688e\"],[0.4444444444444444,\"#26828e\"],[0.5555555555555556,\"#1f9e89\"],[0.6666666666666666,\"#35b779\"],[0.7777777777777778,\"#6ece58\"],[0.8888888888888888,\"#b5de2b\"],[1.0,\"#fde725\"]],\"reversescale\":false,\"showscale\":false,\"x\":[\"Predicted 0\",\"Predicted 1\"],\"y\":[\"Actual 0\",\"Actual 1\"],\"z\":[[154820,605],[4811,149719]],\"type\":\"heatmap\"}],                        {\"annotations\":[{\"font\":{\"color\":\"#000000\"},\"showarrow\":false,\"text\":\"154820\",\"x\":\"Predicted 0\",\"xref\":\"x\",\"y\":\"Actual 0\",\"yref\":\"y\"},{\"font\":{\"color\":\"#FFFFFF\"},\"showarrow\":false,\"text\":\"605\",\"x\":\"Predicted 1\",\"xref\":\"x\",\"y\":\"Actual 0\",\"yref\":\"y\"},{\"font\":{\"color\":\"#FFFFFF\"},\"showarrow\":false,\"text\":\"4811\",\"x\":\"Predicted 0\",\"xref\":\"x\",\"y\":\"Actual 1\",\"yref\":\"y\"},{\"font\":{\"color\":\"#000000\"},\"showarrow\":false,\"text\":\"149719\",\"x\":\"Predicted 1\",\"xref\":\"x\",\"y\":\"Actual 1\",\"yref\":\"y\"}],\"xaxis\":{\"dtick\":1,\"gridcolor\":\"rgb(0, 0, 0)\",\"side\":\"top\",\"ticks\":\"\",\"title\":{\"text\":\"Predicted label\"}},\"yaxis\":{\"dtick\":1,\"ticks\":\"\",\"ticksuffix\":\"  \",\"title\":{\"text\":\"True label\"}},\"template\":{\"data\":{\"histogram2dcontour\":[{\"type\":\"histogram2dcontour\",\"colorbar\":{\"outlinewidth\":0,\"ticks\":\"\"},\"colorscale\":[[0.0,\"#0d0887\"],[0.1111111111111111,\"#46039f\"],[0.2222222222222222,\"#7201a8\"],[0.3333333333333333,\"#9c179e\"],[0.4444444444444444,\"#bd3786\"],[0.5555555555555556,\"#d8576b\"],[0.6666666666666666,\"#ed7953\"],[0.7777777777777778,\"#fb9f3a\"],[0.8888888888888888,\"#fdca26\"],[1.0,\"#f0f921\"]]}],\"choropleth\":[{\"type\":\"choropleth\",\"colorbar\":{\"outlinewidth\":0,\"ticks\":\"\"}}],\"histogram2d\":[{\"type\":\"histogram2d\",\"colorbar\":{\"outlinewidth\":0,\"ticks\":\"\"},\"colorscale\":[[0.0,\"#0d0887\"],[0.1111111111111111,\"#46039f\"],[0.2222222222222222,\"#7201a8\"],[0.3333333333333333,\"#9c179e\"],[0.4444444444444444,\"#bd3786\"],[0.5555555555555556,\"#d8576b\"],[0.6666666666666666,\"#ed7953\"],[0.7777777777777778,\"#fb9f3a\"],[0.8888888888888888,\"#fdca26\"],[1.0,\"#f0f921\"]]}],\"heatmap\":[{\"type\":\"heatmap\",\"colorbar\":{\"outlinewidth\":0,\"ticks\":\"\"},\"colorscale\":[[0.0,\"#0d0887\"],[0.1111111111111111,\"#46039f\"],[0.2222222222222222,\"#7201a8\"],[0.3333333333333333,\"#9c179e\"],[0.4444444444444444,\"#bd3786\"],[0.5555555555555556,\"#d8576b\"],[0.6666666666666666,\"#ed7953\"],[0.7777777777777778,\"#fb9f3a\"],[0.8888888888888888,\"#fdca26\"],[1.0,\"#f0f921\"]]}],\"heatmapgl\":[{\"type\":\"heatmapgl\",\"colorbar\":{\"outlinewidth\":0,\"ticks\":\"\"},\"colorscale\":[[0.0,\"#0d0887\"],[0.1111111111111111,\"#46039f\"],[0.2222222222222222,\"#7201a8\"],[0.3333333333333333,\"#9c179e\"],[0.4444444444444444,\"#bd3786\"],[0.5555555555555556,\"#d8576b\"],[0.6666666666666666,\"#ed7953\"],[0.7777777777777778,\"#fb9f3a\"],[0.8888888888888888,\"#fdca26\"],[1.0,\"#f0f921\"]]}],\"contourcarpet\":[{\"type\":\"contourcarpet\",\"colorbar\":{\"outlinewidth\":0,\"ticks\":\"\"}}],\"contour\":[{\"type\":\"contour\",\"colorbar\":{\"outlinewidth\":0,\"ticks\":\"\"},\"colorscale\":[[0.0,\"#0d0887\"],[0.1111111111111111,\"#46039f\"],[0.2222222222222222,\"#7201a8\"],[0.3333333333333333,\"#9c179e\"],[0.4444444444444444,\"#bd3786\"],[0.5555555555555556,\"#d8576b\"],[0.6666666666666666,\"#ed7953\"],[0.7777777777777778,\"#fb9f3a\"],[0.8888888888888888,\"#fdca26\"],[1.0,\"#f0f921\"]]}],\"surface\":[{\"type\":\"surface\",\"colorbar\":{\"outlinewidth\":0,\"ticks\":\"\"},\"colorscale\":[[0.0,\"#0d0887\"],[0.1111111111111111,\"#46039f\"],[0.2222222222222222,\"#7201a8\"],[0.3333333333333333,\"#9c179e\"],[0.4444444444444444,\"#bd3786\"],[0.5555555555555556,\"#d8576b\"],[0.6666666666666666,\"#ed7953\"],[0.7777777777777778,\"#fb9f3a\"],[0.8888888888888888,\"#fdca26\"],[1.0,\"#f0f921\"]]}],\"mesh3d\":[{\"type\":\"mesh3d\",\"colorbar\":{\"outlinewidth\":0,\"ticks\":\"\"}}],\"scatter\":[{\"fillpattern\":{\"fillmode\":\"overlay\",\"size\":10,\"solidity\":0.2},\"type\":\"scatter\"}],\"parcoords\":[{\"type\":\"parcoords\",\"line\":{\"colorbar\":{\"outlinewidth\":0,\"ticks\":\"\"}}}],\"scatterpolargl\":[{\"type\":\"scatterpolargl\",\"marker\":{\"colorbar\":{\"outlinewidth\":0,\"ticks\":\"\"}}}],\"bar\":[{\"error_x\":{\"color\":\"#2a3f5f\"},\"error_y\":{\"color\":\"#2a3f5f\"},\"marker\":{\"line\":{\"color\":\"#E5ECF6\",\"width\":0.5},\"pattern\":{\"fillmode\":\"overlay\",\"size\":10,\"solidity\":0.2}},\"type\":\"bar\"}],\"scattergeo\":[{\"type\":\"scattergeo\",\"marker\":{\"colorbar\":{\"outlinewidth\":0,\"ticks\":\"\"}}}],\"scatterpolar\":[{\"type\":\"scatterpolar\",\"marker\":{\"colorbar\":{\"outlinewidth\":0,\"ticks\":\"\"}}}],\"histogram\":[{\"marker\":{\"pattern\":{\"fillmode\":\"overlay\",\"size\":10,\"solidity\":0.2}},\"type\":\"histogram\"}],\"scattergl\":[{\"type\":\"scattergl\",\"marker\":{\"colorbar\":{\"outlinewidth\":0,\"ticks\":\"\"}}}],\"scatter3d\":[{\"type\":\"scatter3d\",\"line\":{\"colorbar\":{\"outlinewidth\":0,\"ticks\":\"\"}},\"marker\":{\"colorbar\":{\"outlinewidth\":0,\"ticks\":\"\"}}}],\"scattermapbox\":[{\"type\":\"scattermapbox\",\"marker\":{\"colorbar\":{\"outlinewidth\":0,\"ticks\":\"\"}}}],\"scatterternary\":[{\"type\":\"scatterternary\",\"marker\":{\"colorbar\":{\"outlinewidth\":0,\"ticks\":\"\"}}}],\"scattercarpet\":[{\"type\":\"scattercarpet\",\"marker\":{\"colorbar\":{\"outlinewidth\":0,\"ticks\":\"\"}}}],\"carpet\":[{\"aaxis\":{\"endlinecolor\":\"#2a3f5f\",\"gridcolor\":\"white\",\"linecolor\":\"white\",\"minorgridcolor\":\"white\",\"startlinecolor\":\"#2a3f5f\"},\"baxis\":{\"endlinecolor\":\"#2a3f5f\",\"gridcolor\":\"white\",\"linecolor\":\"white\",\"minorgridcolor\":\"white\",\"startlinecolor\":\"#2a3f5f\"},\"type\":\"carpet\"}],\"table\":[{\"cells\":{\"fill\":{\"color\":\"#EBF0F8\"},\"line\":{\"color\":\"white\"}},\"header\":{\"fill\":{\"color\":\"#C8D4E3\"},\"line\":{\"color\":\"white\"}},\"type\":\"table\"}],\"barpolar\":[{\"marker\":{\"line\":{\"color\":\"#E5ECF6\",\"width\":0.5},\"pattern\":{\"fillmode\":\"overlay\",\"size\":10,\"solidity\":0.2}},\"type\":\"barpolar\"}],\"pie\":[{\"automargin\":true,\"type\":\"pie\"}]},\"layout\":{\"autotypenumbers\":\"strict\",\"colorway\":[\"#636efa\",\"#EF553B\",\"#00cc96\",\"#ab63fa\",\"#FFA15A\",\"#19d3f3\",\"#FF6692\",\"#B6E880\",\"#FF97FF\",\"#FECB52\"],\"font\":{\"color\":\"#2a3f5f\"},\"hovermode\":\"closest\",\"hoverlabel\":{\"align\":\"left\"},\"paper_bgcolor\":\"white\",\"plot_bgcolor\":\"#E5ECF6\",\"polar\":{\"bgcolor\":\"#E5ECF6\",\"angularaxis\":{\"gridcolor\":\"white\",\"linecolor\":\"white\",\"ticks\":\"\"},\"radialaxis\":{\"gridcolor\":\"white\",\"linecolor\":\"white\",\"ticks\":\"\"}},\"ternary\":{\"bgcolor\":\"#E5ECF6\",\"aaxis\":{\"gridcolor\":\"white\",\"linecolor\":\"white\",\"ticks\":\"\"},\"baxis\":{\"gridcolor\":\"white\",\"linecolor\":\"white\",\"ticks\":\"\"},\"caxis\":{\"gridcolor\":\"white\",\"linecolor\":\"white\",\"ticks\":\"\"}},\"coloraxis\":{\"colorbar\":{\"outlinewidth\":0,\"ticks\":\"\"}},\"colorscale\":{\"sequential\":[[0.0,\"#0d0887\"],[0.1111111111111111,\"#46039f\"],[0.2222222222222222,\"#7201a8\"],[0.3333333333333333,\"#9c179e\"],[0.4444444444444444,\"#bd3786\"],[0.5555555555555556,\"#d8576b\"],[0.6666666666666666,\"#ed7953\"],[0.7777777777777778,\"#fb9f3a\"],[0.8888888888888888,\"#fdca26\"],[1.0,\"#f0f921\"]],\"sequentialminus\":[[0.0,\"#0d0887\"],[0.1111111111111111,\"#46039f\"],[0.2222222222222222,\"#7201a8\"],[0.3333333333333333,\"#9c179e\"],[0.4444444444444444,\"#bd3786\"],[0.5555555555555556,\"#d8576b\"],[0.6666666666666666,\"#ed7953\"],[0.7777777777777778,\"#fb9f3a\"],[0.8888888888888888,\"#fdca26\"],[1.0,\"#f0f921\"]],\"diverging\":[[0,\"#8e0152\"],[0.1,\"#c51b7d\"],[0.2,\"#de77ae\"],[0.3,\"#f1b6da\"],[0.4,\"#fde0ef\"],[0.5,\"#f7f7f7\"],[0.6,\"#e6f5d0\"],[0.7,\"#b8e186\"],[0.8,\"#7fbc41\"],[0.9,\"#4d9221\"],[1,\"#276419\"]]},\"xaxis\":{\"gridcolor\":\"white\",\"linecolor\":\"white\",\"ticks\":\"\",\"title\":{\"standoff\":15},\"zerolinecolor\":\"white\",\"automargin\":true,\"zerolinewidth\":2},\"yaxis\":{\"gridcolor\":\"white\",\"linecolor\":\"white\",\"ticks\":\"\",\"title\":{\"standoff\":15},\"zerolinecolor\":\"white\",\"automargin\":true,\"zerolinewidth\":2},\"scene\":{\"xaxis\":{\"backgroundcolor\":\"#E5ECF6\",\"gridcolor\":\"white\",\"linecolor\":\"white\",\"showbackground\":true,\"ticks\":\"\",\"zerolinecolor\":\"white\",\"gridwidth\":2},\"yaxis\":{\"backgroundcolor\":\"#E5ECF6\",\"gridcolor\":\"white\",\"linecolor\":\"white\",\"showbackground\":true,\"ticks\":\"\",\"zerolinecolor\":\"white\",\"gridwidth\":2},\"zaxis\":{\"backgroundcolor\":\"#E5ECF6\",\"gridcolor\":\"white\",\"linecolor\":\"white\",\"showbackground\":true,\"ticks\":\"\",\"zerolinecolor\":\"white\",\"gridwidth\":2}},\"shapedefaults\":{\"line\":{\"color\":\"#2a3f5f\"}},\"annotationdefaults\":{\"arrowcolor\":\"#2a3f5f\",\"arrowhead\":0,\"arrowwidth\":1},\"geo\":{\"bgcolor\":\"white\",\"landcolor\":\"#E5ECF6\",\"subunitcolor\":\"white\",\"showland\":true,\"showlakes\":true,\"lakecolor\":\"white\"},\"title\":{\"x\":0.05},\"mapbox\":{\"style\":\"light\"}}},\"title\":{\"text\":\"Confusion Matrix\"}},                        {\"responsive\": true}                    ).then(function(){\n",
              "                            \n",
              "var gd = document.getElementById('9c680a85-bd74-4bb3-bb6e-268752f2ce1e');\n",
              "var x = new MutationObserver(function (mutations, observer) {{\n",
              "        var display = window.getComputedStyle(gd).display;\n",
              "        if (!display || display === 'none') {{\n",
              "            console.log([gd, 'removed!']);\n",
              "            Plotly.purge(gd);\n",
              "            observer.disconnect();\n",
              "        }}\n",
              "}});\n",
              "\n",
              "// Listen for the removal of the full notebook cells\n",
              "var notebookContainer = gd.closest('#notebook-container');\n",
              "if (notebookContainer) {{\n",
              "    x.observe(notebookContainer, {childList: true});\n",
              "}}\n",
              "\n",
              "// Listen for the clearing of the current output cell\n",
              "var outputEl = gd.closest('.output');\n",
              "if (outputEl) {{\n",
              "    x.observe(outputEl, {childList: true});\n",
              "}}\n",
              "\n",
              "                        })                };                            </script>        </div>\n",
              "</body>\n",
              "</html>"
            ]
          },
          "metadata": {}
        }
      ]
    },
    {
      "cell_type": "code",
      "source": [
        "import matplotlib.pyplot as plt\n",
        "\n",
        "# Step 1: Train the Logistic Regression or Random Forest model\n",
        "# Assuming 'chosen_model' is the trained model (either LogisticRegression or RandomForestClassifier)\n",
        "# and 'X_test' is the test set features\n",
        "\n",
        "y_pred = chosen_model.predict(X_test)  # Make predictions on the test data\n",
        "\n",
        "# Step 2: Count the number of 'default' and 'no default' predictions\n",
        "default_counts = pd.Series(y_pred).value_counts()  # Count the predictions\n",
        "\n",
        "# Print the counts of predicted 'default' and 'no default'\n",
        "print(\"Number of instances predicted as each class:\")\n",
        "print(\"No Default:\", default_counts.get(0, 0))  # If there are no 'no default' predictions\n",
        "print(\"Default:\", default_counts.get(1, 0))  # If there are no 'default' predictions\n",
        "\n",
        "# Step 3: Create a bar plot for the predicted classes\n",
        "labels = ['No Default', 'Default']\n",
        "counts = [default_counts.get(0, 0), default_counts.get(1, 0)]\n",
        "\n",
        "plt.bar(labels, counts, color=['green', 'red'])\n",
        "plt.title('Predicted Class Distribution (Default vs No Default)')\n",
        "plt.xlabel('Predicted Class')\n",
        "plt.ylabel('Number of Instances')\n",
        "\n",
        "# Display the plot\n",
        "plt.show()\n"
      ],
      "metadata": {
        "colab": {
          "base_uri": "https://localhost:8080/",
          "height": 524
        },
        "id": "NEQl-6UcoAau",
        "outputId": "ff7a5300-bebd-4111-f513-305f071dab27"
      },
      "execution_count": null,
      "outputs": [
        {
          "output_type": "stream",
          "name": "stdout",
          "text": [
            "Number of instances predicted as each class:\n",
            "No Default: 159631\n",
            "Default: 150324\n"
          ]
        },
        {
          "output_type": "display_data",
          "data": {
            "text/plain": [
              "<Figure size 640x480 with 1 Axes>"
            ],
            "image/png": "[encoded data removed]"
          },
          "metadata": {}
        }
      ]
    },
    {
      "cell_type": "code",
      "source": [
        "import time\n",
        "import numpy as np\n",
        "from sklearn.ensemble import RandomForestClassifier\n",
        "\n",
        "# Assuming X_train, y_train, X_test, y_test are already defined\n",
        "rf_clf = RandomForestClassifier(n_estimators=100, random_state=42)  # Adjust hyperparameters as needed\n",
        "rf_clf.fit(X_train, y_train)\n",
        "\n",
        "# Function to measure execution time and estimated instructions per second (IPS) on CPU\n",
        "def measure_cpu_execution(model, X_test, batch_sizes):\n",
        "    print(\"\\n==== CPU Execution Analysis ====\")\n",
        "    for batch_size in batch_sizes:\n",
        "        X_batch = X_test[:batch_size]\n",
        "\n",
        "        start_time = time.time()\n",
        "        _ = model.predict(X_batch)  # Making predictions\n",
        "        end_time = time.time()\n",
        "\n",
        "        elapsed_time = end_time - start_time\n",
        "        num_operations = np.prod(X_batch.shape) * batch_size  # Estimated instructions\n",
        "\n",
        "        ips = num_operations / elapsed_time if elapsed_time > 0 else 0\n",
        "        print(f\"Batch Size: {batch_size}, Time Taken: {elapsed_time:.6f} sec, Estimated IPS: {ips:.2e} instr/sec\")\n",
        "\n",
        "# Define batch sizes and run analysis\n",
        "batch_sizes = [1, 32, 64, 128, 256]\n",
        "measure_cpu_execution(rf_clf, X_test, batch_sizes)\n"
      ],
      "metadata": {
        "colab": {
          "base_uri": "https://localhost:8080/"
        },
        "id": "IH37szuVLEI5",
        "outputId": "f5594fca-901f-4cba-973c-b95d48b54289"
      },
      "execution_count": null,
      "outputs": [
        {
          "output_type": "stream",
          "name": "stdout",
          "text": [
            "\n",
            "==== CPU Execution Analysis ====\n",
            "Batch Size: 1, Time Taken: 0.009758 sec, Estimated IPS: 4.92e+03 instr/sec\n",
            "Batch Size: 32, Time Taken: 0.010526 sec, Estimated IPS: 4.67e+06 instr/sec\n",
            "Batch Size: 64, Time Taken: 0.011198 sec, Estimated IPS: 1.76e+07 instr/sec\n",
            "Batch Size: 128, Time Taken: 0.013447 sec, Estimated IPS: 5.85e+07 instr/sec\n",
            "Batch Size: 256, Time Taken: 0.016770 sec, Estimated IPS: 1.88e+08 instr/sec\n"
          ]
        }
      ]
    },
    {
      "cell_type": "code",
      "source": [
        "import time\n",
        "import numpy as np\n",
        "from sklearn.ensemble import RandomForestClassifier\n",
        "\n",
        "# Ensure X_train and y_train are available\n",
        "if 'X_train' not in locals() or 'y_train' not in locals():\n",
        "    print(\"Error: X_train or y_train is missing. Ensure your dataset is loaded properly.\")\n",
        "\n",
        "# Initialize and Train RandomForestClassifier\n",
        "rf_clf = RandomForestClassifier(n_estimators=100, random_state=42)\n",
        "rf_clf.fit(X_train, y_train)  # Train the model\n",
        "\n",
        "# Ensure test data is in NumPy format\n",
        "X_test_np = X_test if isinstance(X_test, np.ndarray) else X_test.to_numpy()\n",
        "\n",
        "# Function to measure execution time on GPU\n",
        "def measure_gpu_execution(model, X_test, batch_sizes):\n",
        "    for batch_size in batch_sizes:\n",
        "        X_batch = X_test[:batch_size]  # Use NumPy array\n",
        "        start_time = time.time()\n",
        "        _ = model.predict(X_batch)  # Perform prediction\n",
        "        end_time = time.time()\n",
        "\n",
        "        elapsed_time = end_time - start_time\n",
        "        num_operations = X_batch.size * batch_size  # Estimate operations\n",
        "\n",
        "        print(f\"Batch Size: {batch_size}, Time Taken: {elapsed_time:.6f} sec, Estimated Instructions: {num_operations / elapsed_time:.2e} instr/sec\")\n",
        "\n",
        "# Define batch sizes\n",
        "batch_sizes = [1, 32, 64, 128, 256]\n",
        "\n",
        "# Run GPU execution analysis\n",
        "print(\"\\n==== Parallel Execution Analysis (GPU) ====\")\n",
        "measure_gpu_execution(rf_clf, X_test_np, batch_sizes)\n"
      ],
      "metadata": {
        "colab": {
          "base_uri": "https://localhost:8080/"
        },
        "id": "G-obHae3WpDP",
        "outputId": "018d9300-a94d-4bdd-c77c-d7347bbf0e05"
      },
      "execution_count": null,
      "outputs": [
        {
          "output_type": "stream",
          "name": "stdout",
          "text": [
            "\n",
            "==== Parallel Execution Analysis (GPU) ====\n",
            "Batch Size: 1, Time Taken: 0.010648 sec, Estimated Instructions: 4.51e+03 instr/sec\n",
            "Batch Size: 32, Time Taken: 0.008846 sec, Estimated Instructions: 5.56e+06 instr/sec\n",
            "Batch Size: 64, Time Taken: 0.009788 sec, Estimated Instructions: 2.01e+07 instr/sec\n",
            "Batch Size: 128, Time Taken: 0.010864 sec, Estimated Instructions: 7.24e+07 instr/sec\n",
            "Batch Size: 256, Time Taken: 0.014195 sec, Estimated Instructions: 2.22e+08 instr/sec\n"
          ]
        }
      ]
    }
  ]
}